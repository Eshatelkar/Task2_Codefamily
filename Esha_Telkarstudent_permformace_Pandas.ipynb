{
  "cells": [
    {
      "cell_type": "markdown",
      "metadata": {
        "id": "view-in-github",
        "colab_type": "text"
      },
      "source": [
        "<a href=\"https://colab.research.google.com/github/Eshatelkar/Task2_Codefamily/blob/main/Esha_Telkarstudent_permformace_Pandas.ipynb\" target=\"_parent\"><img src=\"https://colab.research.google.com/assets/colab-badge.svg\" alt=\"Open In Colab\"/></a>"
      ]
    },
    {
      "cell_type": "code",
      "execution_count": null,
      "id": "d7220f0d",
      "metadata": {
        "_cell_guid": "b1076dfc-b9ad-4769-8c92-a6c4dae69d19",
        "_uuid": "8f2839f25d086af736a60e9eeb907d3b93b6e0e5",
        "execution": {
          "iopub.execute_input": "2022-09-17T14:56:54.293424Z",
          "iopub.status.busy": "2022-09-17T14:56:54.292588Z",
          "iopub.status.idle": "2022-09-17T14:56:54.310926Z",
          "shell.execute_reply": "2022-09-17T14:56:54.309430Z"
        },
        "papermill": {
          "duration": 0.040067,
          "end_time": "2022-09-17T14:56:54.314412",
          "exception": false,
          "start_time": "2022-09-17T14:56:54.274345",
          "status": "completed"
        },
        "tags": [],
        "id": "d7220f0d",
        "outputId": "06921eda-f32b-42bf-b44d-c7b1af04337d"
      },
      "outputs": [
        {
          "name": "stdout",
          "output_type": "stream",
          "text": [
            "/kaggle/input/students-performance-in-exams/StudentsPerformance.csv\n"
          ]
        }
      ],
      "source": [
        "\n",
        "import numpy as np # linear algebra\n",
        "import pandas as pd # data processing, CSV file I/O (e.g. pd.read_csv)\n",
        "\n",
        "\n",
        "\n",
        "import os\n",
        "for dirname, _, filenames in os.walk('/kaggle/input'):\n",
        "    for filename in filenames:\n",
        "        print(os.path.join(dirname, filename))\n",
        "\n"
      ]
    },
    {
      "cell_type": "markdown",
      "id": "f535705a",
      "metadata": {
        "papermill": {
          "duration": 0.013816,
          "end_time": "2022-09-17T14:56:54.344868",
          "exception": false,
          "start_time": "2022-09-17T14:56:54.331052",
          "status": "completed"
        },
        "tags": [],
        "id": "f535705a"
      },
      "source": []
    },
    {
      "cell_type": "markdown",
      "id": "c8ca7586",
      "metadata": {
        "papermill": {
          "duration": 0.013902,
          "end_time": "2022-09-17T14:56:54.372944",
          "exception": false,
          "start_time": "2022-09-17T14:56:54.359042",
          "status": "completed"
        },
        "tags": [],
        "id": "c8ca7586"
      },
      "source": [
        "Students performance in exams\n",
        "\n",
        "Marks secured by the students in college\n",
        "\n",
        "Aim\n",
        "\n",
        "To understand the influence of various factors like economic,personal and social on the students perfomance\n",
        "\n",
        "Inferences would be:\n",
        "\n",
        "1.How to improve the students perfomance in each test?\n",
        "\n",
        "2.What are the major influencing the test scores?\n",
        "\n",
        "3.Effectiveness of test preparation course?\n",
        "\n",
        "4.Other inferences\n",
        "\n",
        "Import the required libraries"
      ]
    },
    {
      "cell_type": "code",
      "execution_count": null,
      "id": "1a96b8c2",
      "metadata": {
        "execution": {
          "iopub.execute_input": "2022-09-17T14:56:54.403661Z",
          "iopub.status.busy": "2022-09-17T14:56:54.403136Z",
          "iopub.status.idle": "2022-09-17T14:56:55.531764Z",
          "shell.execute_reply": "2022-09-17T14:56:55.530542Z"
        },
        "papermill": {
          "duration": 1.148178,
          "end_time": "2022-09-17T14:56:55.535305",
          "exception": false,
          "start_time": "2022-09-17T14:56:54.387127",
          "status": "completed"
        },
        "tags": [],
        "id": "1a96b8c2"
      },
      "outputs": [],
      "source": [
        "import numpy as np\n",
        "import pandas as pd\n",
        "import seaborn as sns\n",
        "import matplotlib.pyplot as plt"
      ]
    },
    {
      "cell_type": "code",
      "execution_count": null,
      "id": "bb8ef757",
      "metadata": {
        "execution": {
          "iopub.execute_input": "2022-09-17T14:56:55.567111Z",
          "iopub.status.busy": "2022-09-17T14:56:55.566129Z",
          "iopub.status.idle": "2022-09-17T14:56:55.572967Z",
          "shell.execute_reply": "2022-09-17T14:56:55.571946Z"
        },
        "papermill": {
          "duration": 0.025049,
          "end_time": "2022-09-17T14:56:55.575266",
          "exception": false,
          "start_time": "2022-09-17T14:56:55.550217",
          "status": "completed"
        },
        "tags": [],
        "id": "bb8ef757"
      },
      "outputs": [],
      "source": [
        "sns.set_theme()\n",
        "sns.set(rc={'figure.figsize':(6,3)})"
      ]
    },
    {
      "cell_type": "markdown",
      "id": "d2f9bc88",
      "metadata": {
        "papermill": {
          "duration": 0.014482,
          "end_time": "2022-09-17T14:56:55.604279",
          "exception": false,
          "start_time": "2022-09-17T14:56:55.589797",
          "status": "completed"
        },
        "tags": [],
        "id": "d2f9bc88"
      },
      "source": [
        "Let us initialize the required values(we will use them later in the program)\n",
        "we will set the minimum marks to 40 to pass in a exam"
      ]
    },
    {
      "cell_type": "code",
      "execution_count": null,
      "id": "3166cce5",
      "metadata": {
        "execution": {
          "iopub.execute_input": "2022-09-17T14:56:55.637233Z",
          "iopub.status.busy": "2022-09-17T14:56:55.636697Z",
          "iopub.status.idle": "2022-09-17T14:56:55.643067Z",
          "shell.execute_reply": "2022-09-17T14:56:55.641451Z"
        },
        "papermill": {
          "duration": 0.02524,
          "end_time": "2022-09-17T14:56:55.645474",
          "exception": false,
          "start_time": "2022-09-17T14:56:55.620234",
          "status": "completed"
        },
        "tags": [],
        "id": "3166cce5"
      },
      "outputs": [],
      "source": [
        "passmark = 40"
      ]
    },
    {
      "cell_type": "markdown",
      "id": "f30215c4",
      "metadata": {
        "papermill": {
          "duration": 0.014891,
          "end_time": "2022-09-17T14:56:55.675102",
          "exception": false,
          "start_time": "2022-09-17T14:56:55.660211",
          "status": "completed"
        },
        "tags": [],
        "id": "f30215c4"
      },
      "source": [
        "Let us read the data from the csv file"
      ]
    },
    {
      "cell_type": "code",
      "execution_count": null,
      "id": "c545dcdf",
      "metadata": {
        "execution": {
          "iopub.execute_input": "2022-09-17T14:56:55.707535Z",
          "iopub.status.busy": "2022-09-17T14:56:55.706651Z",
          "iopub.status.idle": "2022-09-17T14:56:55.747321Z",
          "shell.execute_reply": "2022-09-17T14:56:55.746176Z"
        },
        "papermill": {
          "duration": 0.06003,
          "end_time": "2022-09-17T14:56:55.749845",
          "exception": false,
          "start_time": "2022-09-17T14:56:55.689815",
          "status": "completed"
        },
        "tags": [],
        "id": "c545dcdf",
        "outputId": "bb3083a6-ea90-443c-bcfb-7de3ad601ed5"
      },
      "outputs": [
        {
          "data": {
            "text/html": [
              "<div>\n",
              "<style scoped>\n",
              "    .dataframe tbody tr th:only-of-type {\n",
              "        vertical-align: middle;\n",
              "    }\n",
              "\n",
              "    .dataframe tbody tr th {\n",
              "        vertical-align: top;\n",
              "    }\n",
              "\n",
              "    .dataframe thead th {\n",
              "        text-align: right;\n",
              "    }\n",
              "</style>\n",
              "<table border=\"1\" class=\"dataframe\">\n",
              "  <thead>\n",
              "    <tr style=\"text-align: right;\">\n",
              "      <th></th>\n",
              "      <th>gender</th>\n",
              "      <th>race/ethnicity</th>\n",
              "      <th>parental level of education</th>\n",
              "      <th>lunch</th>\n",
              "      <th>test preparation course</th>\n",
              "      <th>math score</th>\n",
              "      <th>reading score</th>\n",
              "      <th>writing score</th>\n",
              "    </tr>\n",
              "  </thead>\n",
              "  <tbody>\n",
              "    <tr>\n",
              "      <th>0</th>\n",
              "      <td>female</td>\n",
              "      <td>group B</td>\n",
              "      <td>bachelor's degree</td>\n",
              "      <td>standard</td>\n",
              "      <td>none</td>\n",
              "      <td>72</td>\n",
              "      <td>72</td>\n",
              "      <td>74</td>\n",
              "    </tr>\n",
              "    <tr>\n",
              "      <th>1</th>\n",
              "      <td>female</td>\n",
              "      <td>group C</td>\n",
              "      <td>some college</td>\n",
              "      <td>standard</td>\n",
              "      <td>completed</td>\n",
              "      <td>69</td>\n",
              "      <td>90</td>\n",
              "      <td>88</td>\n",
              "    </tr>\n",
              "    <tr>\n",
              "      <th>2</th>\n",
              "      <td>female</td>\n",
              "      <td>group B</td>\n",
              "      <td>master's degree</td>\n",
              "      <td>standard</td>\n",
              "      <td>none</td>\n",
              "      <td>90</td>\n",
              "      <td>95</td>\n",
              "      <td>93</td>\n",
              "    </tr>\n",
              "    <tr>\n",
              "      <th>3</th>\n",
              "      <td>male</td>\n",
              "      <td>group A</td>\n",
              "      <td>associate's degree</td>\n",
              "      <td>free/reduced</td>\n",
              "      <td>none</td>\n",
              "      <td>47</td>\n",
              "      <td>57</td>\n",
              "      <td>44</td>\n",
              "    </tr>\n",
              "    <tr>\n",
              "      <th>4</th>\n",
              "      <td>male</td>\n",
              "      <td>group C</td>\n",
              "      <td>some college</td>\n",
              "      <td>standard</td>\n",
              "      <td>none</td>\n",
              "      <td>76</td>\n",
              "      <td>78</td>\n",
              "      <td>75</td>\n",
              "    </tr>\n",
              "    <tr>\n",
              "      <th>...</th>\n",
              "      <td>...</td>\n",
              "      <td>...</td>\n",
              "      <td>...</td>\n",
              "      <td>...</td>\n",
              "      <td>...</td>\n",
              "      <td>...</td>\n",
              "      <td>...</td>\n",
              "      <td>...</td>\n",
              "    </tr>\n",
              "    <tr>\n",
              "      <th>995</th>\n",
              "      <td>female</td>\n",
              "      <td>group E</td>\n",
              "      <td>master's degree</td>\n",
              "      <td>standard</td>\n",
              "      <td>completed</td>\n",
              "      <td>88</td>\n",
              "      <td>99</td>\n",
              "      <td>95</td>\n",
              "    </tr>\n",
              "    <tr>\n",
              "      <th>996</th>\n",
              "      <td>male</td>\n",
              "      <td>group C</td>\n",
              "      <td>high school</td>\n",
              "      <td>free/reduced</td>\n",
              "      <td>none</td>\n",
              "      <td>62</td>\n",
              "      <td>55</td>\n",
              "      <td>55</td>\n",
              "    </tr>\n",
              "    <tr>\n",
              "      <th>997</th>\n",
              "      <td>female</td>\n",
              "      <td>group C</td>\n",
              "      <td>high school</td>\n",
              "      <td>free/reduced</td>\n",
              "      <td>completed</td>\n",
              "      <td>59</td>\n",
              "      <td>71</td>\n",
              "      <td>65</td>\n",
              "    </tr>\n",
              "    <tr>\n",
              "      <th>998</th>\n",
              "      <td>female</td>\n",
              "      <td>group D</td>\n",
              "      <td>some college</td>\n",
              "      <td>standard</td>\n",
              "      <td>completed</td>\n",
              "      <td>68</td>\n",
              "      <td>78</td>\n",
              "      <td>77</td>\n",
              "    </tr>\n",
              "    <tr>\n",
              "      <th>999</th>\n",
              "      <td>female</td>\n",
              "      <td>group D</td>\n",
              "      <td>some college</td>\n",
              "      <td>free/reduced</td>\n",
              "      <td>none</td>\n",
              "      <td>77</td>\n",
              "      <td>86</td>\n",
              "      <td>86</td>\n",
              "    </tr>\n",
              "  </tbody>\n",
              "</table>\n",
              "<p>1000 rows × 8 columns</p>\n",
              "</div>"
            ],
            "text/plain": [
              "     gender race/ethnicity parental level of education         lunch  \\\n",
              "0    female        group B           bachelor's degree      standard   \n",
              "1    female        group C                some college      standard   \n",
              "2    female        group B             master's degree      standard   \n",
              "3      male        group A          associate's degree  free/reduced   \n",
              "4      male        group C                some college      standard   \n",
              "..      ...            ...                         ...           ...   \n",
              "995  female        group E             master's degree      standard   \n",
              "996    male        group C                 high school  free/reduced   \n",
              "997  female        group C                 high school  free/reduced   \n",
              "998  female        group D                some college      standard   \n",
              "999  female        group D                some college  free/reduced   \n",
              "\n",
              "    test preparation course  math score  reading score  writing score  \n",
              "0                      none          72             72             74  \n",
              "1                 completed          69             90             88  \n",
              "2                      none          90             95             93  \n",
              "3                      none          47             57             44  \n",
              "4                      none          76             78             75  \n",
              "..                      ...         ...            ...            ...  \n",
              "995               completed          88             99             95  \n",
              "996                    none          62             55             55  \n",
              "997               completed          59             71             65  \n",
              "998               completed          68             78             77  \n",
              "999                    none          77             86             86  \n",
              "\n",
              "[1000 rows x 8 columns]"
            ]
          },
          "execution_count": 5,
          "metadata": {},
          "output_type": "execute_result"
        }
      ],
      "source": [
        "df = pd.read_csv(\"/kaggle/input/students-performance-in-exams/StudentsPerformance.csv\")\n",
        "df"
      ]
    },
    {
      "cell_type": "code",
      "execution_count": null,
      "id": "9d460137",
      "metadata": {
        "execution": {
          "iopub.execute_input": "2022-09-17T14:56:55.785032Z",
          "iopub.status.busy": "2022-09-17T14:56:55.784597Z",
          "iopub.status.idle": "2022-09-17T14:56:55.810013Z",
          "shell.execute_reply": "2022-09-17T14:56:55.809062Z"
        },
        "papermill": {
          "duration": 0.048218,
          "end_time": "2022-09-17T14:56:55.813481",
          "exception": false,
          "start_time": "2022-09-17T14:56:55.765263",
          "status": "completed"
        },
        "tags": [],
        "id": "9d460137",
        "outputId": "eeabc858-67cf-4c9a-bea7-a10e8b59fb5b"
      },
      "outputs": [
        {
          "name": "stdout",
          "output_type": "stream",
          "text": [
            "<class 'pandas.core.frame.DataFrame'>\n",
            "RangeIndex: 1000 entries, 0 to 999\n",
            "Data columns (total 8 columns):\n",
            " #   Column                       Non-Null Count  Dtype \n",
            "---  ------                       --------------  ----- \n",
            " 0   gender                       1000 non-null   object\n",
            " 1   race/ethnicity               1000 non-null   object\n",
            " 2   parental level of education  1000 non-null   object\n",
            " 3   lunch                        1000 non-null   object\n",
            " 4   test preparation course      1000 non-null   object\n",
            " 5   math score                   1000 non-null   int64 \n",
            " 6   reading score                1000 non-null   int64 \n",
            " 7   writing score                1000 non-null   int64 \n",
            "dtypes: int64(3), object(5)\n",
            "memory usage: 62.6+ KB\n"
          ]
        }
      ],
      "source": [
        "df.info()"
      ]
    },
    {
      "cell_type": "code",
      "execution_count": null,
      "id": "96e41570",
      "metadata": {
        "execution": {
          "iopub.execute_input": "2022-09-17T14:56:55.847520Z",
          "iopub.status.busy": "2022-09-17T14:56:55.846820Z",
          "iopub.status.idle": "2022-09-17T14:56:55.856251Z",
          "shell.execute_reply": "2022-09-17T14:56:55.855031Z"
        },
        "papermill": {
          "duration": 0.029216,
          "end_time": "2022-09-17T14:56:55.859269",
          "exception": false,
          "start_time": "2022-09-17T14:56:55.830053",
          "status": "completed"
        },
        "tags": [],
        "id": "96e41570",
        "outputId": "9c3c3228-299b-4828-ba72-beecf9f43c45"
      },
      "outputs": [
        {
          "data": {
            "text/plain": [
              "gender                         0\n",
              "race/ethnicity                 0\n",
              "parental level of education    0\n",
              "lunch                          0\n",
              "test preparation course        0\n",
              "math score                     0\n",
              "reading score                  0\n",
              "writing score                  0\n",
              "dtype: int64"
            ]
          },
          "execution_count": 7,
          "metadata": {},
          "output_type": "execute_result"
        }
      ],
      "source": [
        "df.isnull().sum()"
      ]
    },
    {
      "cell_type": "code",
      "execution_count": null,
      "id": "b7d97b93",
      "metadata": {
        "execution": {
          "iopub.execute_input": "2022-09-17T14:56:55.891526Z",
          "iopub.status.busy": "2022-09-17T14:56:55.890519Z",
          "iopub.status.idle": "2022-09-17T14:56:55.897117Z",
          "shell.execute_reply": "2022-09-17T14:56:55.896221Z"
        },
        "papermill": {
          "duration": 0.025085,
          "end_time": "2022-09-17T14:56:55.899458",
          "exception": false,
          "start_time": "2022-09-17T14:56:55.874373",
          "status": "completed"
        },
        "tags": [],
        "id": "b7d97b93"
      },
      "outputs": [],
      "source": [
        "df.rename(columns={'ParentalLevelOfEducation':'parental level of education','TestPreparationCourse':'test preparation course','MathScore':'math score',\n",
        "                    'ReadingScore':'reading score','WritingScore':'writing score'},inplace=True)"
      ]
    },
    {
      "cell_type": "code",
      "execution_count": null,
      "id": "f5db6c33",
      "metadata": {
        "execution": {
          "iopub.execute_input": "2022-09-17T14:56:55.930945Z",
          "iopub.status.busy": "2022-09-17T14:56:55.930286Z",
          "iopub.status.idle": "2022-09-17T14:56:55.944333Z",
          "shell.execute_reply": "2022-09-17T14:56:55.943030Z"
        },
        "papermill": {
          "duration": 0.033127,
          "end_time": "2022-09-17T14:56:55.947226",
          "exception": false,
          "start_time": "2022-09-17T14:56:55.914099",
          "status": "completed"
        },
        "tags": [],
        "id": "f5db6c33",
        "outputId": "689e2e11-3d98-440a-9514-681c1e477796"
      },
      "outputs": [
        {
          "data": {
            "text/html": [
              "<div>\n",
              "<style scoped>\n",
              "    .dataframe tbody tr th:only-of-type {\n",
              "        vertical-align: middle;\n",
              "    }\n",
              "\n",
              "    .dataframe tbody tr th {\n",
              "        vertical-align: top;\n",
              "    }\n",
              "\n",
              "    .dataframe thead th {\n",
              "        text-align: right;\n",
              "    }\n",
              "</style>\n",
              "<table border=\"1\" class=\"dataframe\">\n",
              "  <thead>\n",
              "    <tr style=\"text-align: right;\">\n",
              "      <th></th>\n",
              "      <th>gender</th>\n",
              "      <th>race/ethnicity</th>\n",
              "      <th>parental level of education</th>\n",
              "      <th>lunch</th>\n",
              "      <th>test preparation course</th>\n",
              "      <th>math score</th>\n",
              "      <th>reading score</th>\n",
              "      <th>writing score</th>\n",
              "    </tr>\n",
              "  </thead>\n",
              "  <tbody>\n",
              "    <tr>\n",
              "      <th>0</th>\n",
              "      <td>female</td>\n",
              "      <td>group B</td>\n",
              "      <td>bachelor's degree</td>\n",
              "      <td>standard</td>\n",
              "      <td>none</td>\n",
              "      <td>72</td>\n",
              "      <td>72</td>\n",
              "      <td>74</td>\n",
              "    </tr>\n",
              "    <tr>\n",
              "      <th>1</th>\n",
              "      <td>female</td>\n",
              "      <td>group C</td>\n",
              "      <td>some college</td>\n",
              "      <td>standard</td>\n",
              "      <td>completed</td>\n",
              "      <td>69</td>\n",
              "      <td>90</td>\n",
              "      <td>88</td>\n",
              "    </tr>\n",
              "    <tr>\n",
              "      <th>2</th>\n",
              "      <td>female</td>\n",
              "      <td>group B</td>\n",
              "      <td>master's degree</td>\n",
              "      <td>standard</td>\n",
              "      <td>none</td>\n",
              "      <td>90</td>\n",
              "      <td>95</td>\n",
              "      <td>93</td>\n",
              "    </tr>\n",
              "    <tr>\n",
              "      <th>3</th>\n",
              "      <td>male</td>\n",
              "      <td>group A</td>\n",
              "      <td>associate's degree</td>\n",
              "      <td>free/reduced</td>\n",
              "      <td>none</td>\n",
              "      <td>47</td>\n",
              "      <td>57</td>\n",
              "      <td>44</td>\n",
              "    </tr>\n",
              "    <tr>\n",
              "      <th>4</th>\n",
              "      <td>male</td>\n",
              "      <td>group C</td>\n",
              "      <td>some college</td>\n",
              "      <td>standard</td>\n",
              "      <td>none</td>\n",
              "      <td>76</td>\n",
              "      <td>78</td>\n",
              "      <td>75</td>\n",
              "    </tr>\n",
              "  </tbody>\n",
              "</table>\n",
              "</div>"
            ],
            "text/plain": [
              "   gender race/ethnicity parental level of education         lunch  \\\n",
              "0  female        group B           bachelor's degree      standard   \n",
              "1  female        group C                some college      standard   \n",
              "2  female        group B             master's degree      standard   \n",
              "3    male        group A          associate's degree  free/reduced   \n",
              "4    male        group C                some college      standard   \n",
              "\n",
              "  test preparation course  math score  reading score  writing score  \n",
              "0                    none          72             72             74  \n",
              "1               completed          69             90             88  \n",
              "2                    none          90             95             93  \n",
              "3                    none          47             57             44  \n",
              "4                    none          76             78             75  "
            ]
          },
          "execution_count": 9,
          "metadata": {},
          "output_type": "execute_result"
        }
      ],
      "source": [
        "df.head()"
      ]
    },
    {
      "cell_type": "code",
      "execution_count": null,
      "id": "920e0f64",
      "metadata": {
        "execution": {
          "iopub.execute_input": "2022-09-17T14:56:55.980668Z",
          "iopub.status.busy": "2022-09-17T14:56:55.980190Z",
          "iopub.status.idle": "2022-09-17T14:56:55.987730Z",
          "shell.execute_reply": "2022-09-17T14:56:55.986444Z"
        },
        "papermill": {
          "duration": 0.027438,
          "end_time": "2022-09-17T14:56:55.990784",
          "exception": false,
          "start_time": "2022-09-17T14:56:55.963346",
          "status": "completed"
        },
        "tags": [],
        "id": "920e0f64",
        "outputId": "ea49e65d-0c9b-4a63-91d0-a879e27fa838"
      },
      "outputs": [
        {
          "name": "stdout",
          "output_type": "stream",
          "text": [
            "The categorical variables are:  []\n"
          ]
        }
      ],
      "source": [
        "categorical = [var for var in df.columns if df[var].dtype=='0']\n",
        "\n",
        "print('The categorical variables are: ',categorical)"
      ]
    },
    {
      "cell_type": "code",
      "execution_count": null,
      "id": "a40d6849",
      "metadata": {
        "execution": {
          "iopub.execute_input": "2022-09-17T14:56:56.026336Z",
          "iopub.status.busy": "2022-09-17T14:56:56.025826Z",
          "iopub.status.idle": "2022-09-17T14:56:56.033402Z",
          "shell.execute_reply": "2022-09-17T14:56:56.032001Z"
        },
        "papermill": {
          "duration": 0.029428,
          "end_time": "2022-09-17T14:56:56.035699",
          "exception": false,
          "start_time": "2022-09-17T14:56:56.006271",
          "status": "completed"
        },
        "tags": [],
        "id": "a40d6849",
        "outputId": "40a89870-5718-4ed5-aeeb-46a15f9eb7fa"
      },
      "outputs": [
        {
          "name": "stdout",
          "output_type": "stream",
          "text": [
            "The numerical variables are:  ['gender', 'race/ethnicity', 'parental level of education', 'lunch', 'test preparation course', 'math score', 'reading score', 'writing score']\n"
          ]
        }
      ],
      "source": [
        "numerical = [var for var in df.columns if df[var].dtype!='0']\n",
        "\n",
        "print('The numerical variables are: ',numerical)"
      ]
    },
    {
      "cell_type": "markdown",
      "id": "73695316",
      "metadata": {
        "papermill": {
          "duration": 0.015412,
          "end_time": "2022-09-17T14:56:56.067247",
          "exception": false,
          "start_time": "2022-09-17T14:56:56.051835",
          "status": "completed"
        },
        "tags": [],
        "id": "73695316"
      },
      "source": [
        "We will print top few rows to understand about the various data columns"
      ]
    },
    {
      "cell_type": "code",
      "execution_count": null,
      "id": "2bab1766",
      "metadata": {
        "execution": {
          "iopub.execute_input": "2022-09-17T14:56:56.100941Z",
          "iopub.status.busy": "2022-09-17T14:56:56.099774Z",
          "iopub.status.idle": "2022-09-17T14:56:56.117634Z",
          "shell.execute_reply": "2022-09-17T14:56:56.116590Z"
        },
        "papermill": {
          "duration": 0.03682,
          "end_time": "2022-09-17T14:56:56.120027",
          "exception": false,
          "start_time": "2022-09-17T14:56:56.083207",
          "status": "completed"
        },
        "tags": [],
        "id": "2bab1766",
        "outputId": "b134c987-361b-43a0-f948-62b7038b5a88"
      },
      "outputs": [
        {
          "data": {
            "text/html": [
              "<div>\n",
              "<style scoped>\n",
              "    .dataframe tbody tr th:only-of-type {\n",
              "        vertical-align: middle;\n",
              "    }\n",
              "\n",
              "    .dataframe tbody tr th {\n",
              "        vertical-align: top;\n",
              "    }\n",
              "\n",
              "    .dataframe thead th {\n",
              "        text-align: right;\n",
              "    }\n",
              "</style>\n",
              "<table border=\"1\" class=\"dataframe\">\n",
              "  <thead>\n",
              "    <tr style=\"text-align: right;\">\n",
              "      <th></th>\n",
              "      <th>gender</th>\n",
              "      <th>race/ethnicity</th>\n",
              "      <th>parental level of education</th>\n",
              "      <th>lunch</th>\n",
              "      <th>test preparation course</th>\n",
              "      <th>math score</th>\n",
              "      <th>reading score</th>\n",
              "      <th>writing score</th>\n",
              "    </tr>\n",
              "  </thead>\n",
              "  <tbody>\n",
              "    <tr>\n",
              "      <th>0</th>\n",
              "      <td>female</td>\n",
              "      <td>group B</td>\n",
              "      <td>bachelor's degree</td>\n",
              "      <td>standard</td>\n",
              "      <td>none</td>\n",
              "      <td>72</td>\n",
              "      <td>72</td>\n",
              "      <td>74</td>\n",
              "    </tr>\n",
              "    <tr>\n",
              "      <th>1</th>\n",
              "      <td>female</td>\n",
              "      <td>group C</td>\n",
              "      <td>some college</td>\n",
              "      <td>standard</td>\n",
              "      <td>completed</td>\n",
              "      <td>69</td>\n",
              "      <td>90</td>\n",
              "      <td>88</td>\n",
              "    </tr>\n",
              "    <tr>\n",
              "      <th>2</th>\n",
              "      <td>female</td>\n",
              "      <td>group B</td>\n",
              "      <td>master's degree</td>\n",
              "      <td>standard</td>\n",
              "      <td>none</td>\n",
              "      <td>90</td>\n",
              "      <td>95</td>\n",
              "      <td>93</td>\n",
              "    </tr>\n",
              "    <tr>\n",
              "      <th>3</th>\n",
              "      <td>male</td>\n",
              "      <td>group A</td>\n",
              "      <td>associate's degree</td>\n",
              "      <td>free/reduced</td>\n",
              "      <td>none</td>\n",
              "      <td>47</td>\n",
              "      <td>57</td>\n",
              "      <td>44</td>\n",
              "    </tr>\n",
              "    <tr>\n",
              "      <th>4</th>\n",
              "      <td>male</td>\n",
              "      <td>group C</td>\n",
              "      <td>some college</td>\n",
              "      <td>standard</td>\n",
              "      <td>none</td>\n",
              "      <td>76</td>\n",
              "      <td>78</td>\n",
              "      <td>75</td>\n",
              "    </tr>\n",
              "  </tbody>\n",
              "</table>\n",
              "</div>"
            ],
            "text/plain": [
              "   gender race/ethnicity parental level of education         lunch  \\\n",
              "0  female        group B           bachelor's degree      standard   \n",
              "1  female        group C                some college      standard   \n",
              "2  female        group B             master's degree      standard   \n",
              "3    male        group A          associate's degree  free/reduced   \n",
              "4    male        group C                some college      standard   \n",
              "\n",
              "  test preparation course  math score  reading score  writing score  \n",
              "0                    none          72             72             74  \n",
              "1               completed          69             90             88  \n",
              "2                    none          90             95             93  \n",
              "3                    none          47             57             44  \n",
              "4                    none          76             78             75  "
            ]
          },
          "execution_count": 12,
          "metadata": {},
          "output_type": "execute_result"
        }
      ],
      "source": [
        "df.head()"
      ]
    },
    {
      "cell_type": "markdown",
      "id": "28a5a55a",
      "metadata": {
        "papermill": {
          "duration": 0.014941,
          "end_time": "2022-09-17T14:56:56.150716",
          "exception": false,
          "start_time": "2022-09-17T14:56:56.135775",
          "status": "completed"
        },
        "tags": [],
        "id": "28a5a55a"
      },
      "source": [
        "Size of data frame"
      ]
    },
    {
      "cell_type": "code",
      "execution_count": null,
      "id": "b75d57fe",
      "metadata": {
        "execution": {
          "iopub.execute_input": "2022-09-17T14:56:56.184818Z",
          "iopub.status.busy": "2022-09-17T14:56:56.183905Z",
          "iopub.status.idle": "2022-09-17T14:56:56.190682Z",
          "shell.execute_reply": "2022-09-17T14:56:56.188912Z"
        },
        "papermill": {
          "duration": 0.02662,
          "end_time": "2022-09-17T14:56:56.193079",
          "exception": false,
          "start_time": "2022-09-17T14:56:56.166459",
          "status": "completed"
        },
        "tags": [],
        "id": "b75d57fe",
        "outputId": "b1049a25-cb60-4cf8-cedb-85a24d97d5ae"
      },
      "outputs": [
        {
          "name": "stdout",
          "output_type": "stream",
          "text": [
            "(1000, 8)\n"
          ]
        }
      ],
      "source": [
        "print(df.shape)"
      ]
    },
    {
      "cell_type": "markdown",
      "id": "df3dee3a",
      "metadata": {
        "papermill": {
          "duration": 0.014956,
          "end_time": "2022-09-17T14:56:56.223444",
          "exception": false,
          "start_time": "2022-09-17T14:56:56.208488",
          "status": "completed"
        },
        "tags": [],
        "id": "df3dee3a"
      },
      "source": [
        "Let us understand about the basic information of the data like min,max,mean and standard deviation etc."
      ]
    },
    {
      "cell_type": "code",
      "execution_count": null,
      "id": "51483744",
      "metadata": {
        "execution": {
          "iopub.execute_input": "2022-09-17T14:56:56.256448Z",
          "iopub.status.busy": "2022-09-17T14:56:56.255914Z",
          "iopub.status.idle": "2022-09-17T14:56:56.282599Z",
          "shell.execute_reply": "2022-09-17T14:56:56.281244Z"
        },
        "papermill": {
          "duration": 0.046711,
          "end_time": "2022-09-17T14:56:56.285378",
          "exception": false,
          "start_time": "2022-09-17T14:56:56.238667",
          "status": "completed"
        },
        "tags": [],
        "id": "51483744",
        "outputId": "ac1a67d5-2288-4217-fce8-51012ba9e435"
      },
      "outputs": [
        {
          "data": {
            "text/html": [
              "<div>\n",
              "<style scoped>\n",
              "    .dataframe tbody tr th:only-of-type {\n",
              "        vertical-align: middle;\n",
              "    }\n",
              "\n",
              "    .dataframe tbody tr th {\n",
              "        vertical-align: top;\n",
              "    }\n",
              "\n",
              "    .dataframe thead th {\n",
              "        text-align: right;\n",
              "    }\n",
              "</style>\n",
              "<table border=\"1\" class=\"dataframe\">\n",
              "  <thead>\n",
              "    <tr style=\"text-align: right;\">\n",
              "      <th></th>\n",
              "      <th>math score</th>\n",
              "      <th>reading score</th>\n",
              "      <th>writing score</th>\n",
              "    </tr>\n",
              "  </thead>\n",
              "  <tbody>\n",
              "    <tr>\n",
              "      <th>count</th>\n",
              "      <td>1000.00000</td>\n",
              "      <td>1000.000000</td>\n",
              "      <td>1000.000000</td>\n",
              "    </tr>\n",
              "    <tr>\n",
              "      <th>mean</th>\n",
              "      <td>66.08900</td>\n",
              "      <td>69.169000</td>\n",
              "      <td>68.054000</td>\n",
              "    </tr>\n",
              "    <tr>\n",
              "      <th>std</th>\n",
              "      <td>15.16308</td>\n",
              "      <td>14.600192</td>\n",
              "      <td>15.195657</td>\n",
              "    </tr>\n",
              "    <tr>\n",
              "      <th>min</th>\n",
              "      <td>0.00000</td>\n",
              "      <td>17.000000</td>\n",
              "      <td>10.000000</td>\n",
              "    </tr>\n",
              "    <tr>\n",
              "      <th>25%</th>\n",
              "      <td>57.00000</td>\n",
              "      <td>59.000000</td>\n",
              "      <td>57.750000</td>\n",
              "    </tr>\n",
              "    <tr>\n",
              "      <th>50%</th>\n",
              "      <td>66.00000</td>\n",
              "      <td>70.000000</td>\n",
              "      <td>69.000000</td>\n",
              "    </tr>\n",
              "    <tr>\n",
              "      <th>75%</th>\n",
              "      <td>77.00000</td>\n",
              "      <td>79.000000</td>\n",
              "      <td>79.000000</td>\n",
              "    </tr>\n",
              "    <tr>\n",
              "      <th>max</th>\n",
              "      <td>100.00000</td>\n",
              "      <td>100.000000</td>\n",
              "      <td>100.000000</td>\n",
              "    </tr>\n",
              "  </tbody>\n",
              "</table>\n",
              "</div>"
            ],
            "text/plain": [
              "       math score  reading score  writing score\n",
              "count  1000.00000    1000.000000    1000.000000\n",
              "mean     66.08900      69.169000      68.054000\n",
              "std      15.16308      14.600192      15.195657\n",
              "min       0.00000      17.000000      10.000000\n",
              "25%      57.00000      59.000000      57.750000\n",
              "50%      66.00000      70.000000      69.000000\n",
              "75%      77.00000      79.000000      79.000000\n",
              "max     100.00000     100.000000     100.000000"
            ]
          },
          "execution_count": 14,
          "metadata": {},
          "output_type": "execute_result"
        }
      ],
      "source": [
        "df.describe()"
      ]
    },
    {
      "cell_type": "markdown",
      "id": "538238e8",
      "metadata": {
        "papermill": {
          "duration": 0.01562,
          "end_time": "2022-09-17T14:56:56.316903",
          "exception": false,
          "start_time": "2022-09-17T14:56:56.301283",
          "status": "completed"
        },
        "tags": [],
        "id": "538238e8"
      },
      "source": [
        "Let us check for any missing values"
      ]
    },
    {
      "cell_type": "code",
      "execution_count": null,
      "id": "4eef348c",
      "metadata": {
        "execution": {
          "iopub.execute_input": "2022-09-17T14:56:56.350015Z",
          "iopub.status.busy": "2022-09-17T14:56:56.349605Z",
          "iopub.status.idle": "2022-09-17T14:56:56.360675Z",
          "shell.execute_reply": "2022-09-17T14:56:56.359479Z"
        },
        "papermill": {
          "duration": 0.030547,
          "end_time": "2022-09-17T14:56:56.363139",
          "exception": false,
          "start_time": "2022-09-17T14:56:56.332592",
          "status": "completed"
        },
        "tags": [],
        "id": "4eef348c",
        "outputId": "ababde7e-ad8c-4d6c-f2df-cc8393a64313"
      },
      "outputs": [
        {
          "data": {
            "text/plain": [
              "gender                         0\n",
              "race/ethnicity                 0\n",
              "parental level of education    0\n",
              "lunch                          0\n",
              "test preparation course        0\n",
              "math score                     0\n",
              "reading score                  0\n",
              "writing score                  0\n",
              "dtype: int64"
            ]
          },
          "execution_count": 15,
          "metadata": {},
          "output_type": "execute_result"
        }
      ],
      "source": [
        "df.isnull().sum()"
      ]
    },
    {
      "cell_type": "markdown",
      "id": "247b3176",
      "metadata": {
        "papermill": {
          "duration": 0.015381,
          "end_time": "2022-09-17T14:56:56.394106",
          "exception": false,
          "start_time": "2022-09-17T14:56:56.378725",
          "status": "completed"
        },
        "tags": [],
        "id": "247b3176"
      },
      "source": [
        "As seen above ,these are no missing(null)values in this dataframe but in real scenarios we need work on dataset with a lot of missing values\n",
        "\n",
        "Let us explore the Math Score first"
      ]
    },
    {
      "cell_type": "code",
      "execution_count": null,
      "id": "ee9fbfe0",
      "metadata": {
        "execution": {
          "iopub.execute_input": "2022-09-17T14:56:56.427140Z",
          "iopub.status.busy": "2022-09-17T14:56:56.426696Z",
          "iopub.status.idle": "2022-09-17T14:56:58.562965Z",
          "shell.execute_reply": "2022-09-17T14:56:58.561532Z"
        },
        "papermill": {
          "duration": 2.155699,
          "end_time": "2022-09-17T14:56:58.565451",
          "exception": false,
          "start_time": "2022-09-17T14:56:56.409752",
          "status": "completed"
        },
        "tags": [],
        "id": "ee9fbfe0",
        "outputId": "b6f30660-bc59-4b48-bec2-e835cb63c9d2"
      },
      "outputs": [
        {
          "data": {
            "image/png": "[encoded data removed]",
            "text/plain": [
              "<Figure size 432x216 with 1 Axes>"
            ]
          },
          "metadata": {},
          "output_type": "display_data"
        }
      ],
      "source": [
        "p = sns.countplot(x=\"math score\", data = df, palette=\"muted\")\n",
        "_ = plt.setp(p.get_xticklabels(), rotation=90) "
      ]
    },
    {
      "cell_type": "markdown",
      "id": "3c55415f",
      "metadata": {
        "papermill": {
          "duration": 0.015722,
          "end_time": "2022-09-17T14:56:58.597334",
          "exception": false,
          "start_time": "2022-09-17T14:56:58.581612",
          "status": "completed"
        },
        "tags": [],
        "id": "3c55415f"
      },
      "source": [
        "How many students passed in Math exam?"
      ]
    },
    {
      "cell_type": "code",
      "execution_count": null,
      "id": "c675c89c",
      "metadata": {
        "execution": {
          "iopub.execute_input": "2022-09-17T14:56:58.631334Z",
          "iopub.status.busy": "2022-09-17T14:56:58.630885Z",
          "iopub.status.idle": "2022-09-17T14:56:58.642940Z",
          "shell.execute_reply": "2022-09-17T14:56:58.641896Z"
        },
        "papermill": {
          "duration": 0.031986,
          "end_time": "2022-09-17T14:56:58.645282",
          "exception": false,
          "start_time": "2022-09-17T14:56:58.613296",
          "status": "completed"
        },
        "tags": [],
        "id": "c675c89c",
        "outputId": "76441efc-47e1-40a9-8005-a0c281a5959b"
      },
      "outputs": [
        {
          "data": {
            "text/plain": [
              "P    960\n",
              "F     40\n",
              "Name: Math_PassStatus, dtype: int64"
            ]
          },
          "execution_count": 17,
          "metadata": {},
          "output_type": "execute_result"
        }
      ],
      "source": [
        "df['Math_PassStatus'] = np.where(df['math score']<passmark, 'F', 'P')\n",
        "df.Math_PassStatus.value_counts()"
      ]
    },
    {
      "cell_type": "markdown",
      "id": "b4b5a6e6",
      "metadata": {
        "papermill": {
          "duration": 0.016579,
          "end_time": "2022-09-17T14:56:58.678773",
          "exception": false,
          "start_time": "2022-09-17T14:56:58.662194",
          "status": "completed"
        },
        "tags": [],
        "id": "b4b5a6e6"
      },
      "source": []
    },
    {
      "cell_type": "code",
      "execution_count": null,
      "id": "df462dde",
      "metadata": {
        "execution": {
          "iopub.execute_input": "2022-09-17T14:56:58.714472Z",
          "iopub.status.busy": "2022-09-17T14:56:58.713027Z",
          "iopub.status.idle": "2022-09-17T14:56:59.026197Z",
          "shell.execute_reply": "2022-09-17T14:56:59.024186Z"
        },
        "papermill": {
          "duration": 0.333908,
          "end_time": "2022-09-17T14:56:59.028903",
          "exception": false,
          "start_time": "2022-09-17T14:56:58.694995",
          "status": "completed"
        },
        "tags": [],
        "id": "df462dde",
        "outputId": "476aad6a-8c27-483b-90ed-66a26ac95cb0"
      },
      "outputs": [
        {
          "data": {
            "image/png": "[encoded data removed]",
            "text/plain": [
              "<Figure size 432x216 with 1 Axes>"
            ]
          },
          "metadata": {},
          "output_type": "display_data"
        }
      ],
      "source": [
        "p = sns.countplot(x='parental level of education', data = df, hue='Math_PassStatus', palette='bright')\n",
        "_ = plt.setp(p.get_xticklabels(), rotation=90) "
      ]
    },
    {
      "cell_type": "markdown",
      "id": "ee8ebc1a",
      "metadata": {
        "papermill": {
          "duration": 0.016357,
          "end_time": "2022-09-17T14:56:59.062121",
          "exception": false,
          "start_time": "2022-09-17T14:56:59.045764",
          "status": "completed"
        },
        "tags": [],
        "id": "ee8ebc1a"
      },
      "source": [
        "Let us explore the Reading score"
      ]
    },
    {
      "cell_type": "code",
      "execution_count": null,
      "id": "4bf99f62",
      "metadata": {
        "execution": {
          "iopub.execute_input": "2022-09-17T14:56:59.098292Z",
          "iopub.status.busy": "2022-09-17T14:56:59.097697Z",
          "iopub.status.idle": "2022-09-17T14:57:00.635377Z",
          "shell.execute_reply": "2022-09-17T14:57:00.634200Z"
        },
        "papermill": {
          "duration": 1.559356,
          "end_time": "2022-09-17T14:57:00.638471",
          "exception": false,
          "start_time": "2022-09-17T14:56:59.079115",
          "status": "completed"
        },
        "tags": [],
        "id": "4bf99f62",
        "outputId": "c205d38c-2c31-4be2-e6bc-40a6971c365f"
      },
      "outputs": [
        {
          "data": {
            "image/png": "[encoded data removed]",
            "text/plain": [
              "<Figure size 432x216 with 1 Axes>"
            ]
          },
          "metadata": {},
          "output_type": "display_data"
        }
      ],
      "source": [
        "sns.countplot(x=\"reading score\", data = df, palette=\"muted\")\n",
        "plt.show()"
      ]
    },
    {
      "cell_type": "markdown",
      "id": "30110b48",
      "metadata": {
        "papermill": {
          "duration": 0.018348,
          "end_time": "2022-09-17T14:57:00.675433",
          "exception": false,
          "start_time": "2022-09-17T14:57:00.657085",
          "status": "completed"
        },
        "tags": [],
        "id": "30110b48"
      },
      "source": [
        "How many students passed in reading?"
      ]
    },
    {
      "cell_type": "code",
      "execution_count": null,
      "id": "6e8e1467",
      "metadata": {
        "execution": {
          "iopub.execute_input": "2022-09-17T14:57:00.714152Z",
          "iopub.status.busy": "2022-09-17T14:57:00.712949Z",
          "iopub.status.idle": "2022-09-17T14:57:00.723300Z",
          "shell.execute_reply": "2022-09-17T14:57:00.722272Z"
        },
        "papermill": {
          "duration": 0.031988,
          "end_time": "2022-09-17T14:57:00.725752",
          "exception": false,
          "start_time": "2022-09-17T14:57:00.693764",
          "status": "completed"
        },
        "tags": [],
        "id": "6e8e1467",
        "outputId": "330292e5-553d-47ee-d780-8178ba5f0344"
      },
      "outputs": [
        {
          "data": {
            "text/plain": [
              "P    974\n",
              "F     26\n",
              "Name: Reading_PassStatus, dtype: int64"
            ]
          },
          "execution_count": 20,
          "metadata": {},
          "output_type": "execute_result"
        }
      ],
      "source": [
        "df['Reading_PassStatus'] = np.where(df['reading score']<passmark, 'F', 'P')\n",
        "df.Reading_PassStatus.value_counts()"
      ]
    },
    {
      "cell_type": "code",
      "execution_count": null,
      "id": "8b522058",
      "metadata": {
        "execution": {
          "iopub.execute_input": "2022-09-17T14:57:00.766361Z",
          "iopub.status.busy": "2022-09-17T14:57:00.765615Z",
          "iopub.status.idle": "2022-09-17T14:57:01.051232Z",
          "shell.execute_reply": "2022-09-17T14:57:01.049597Z"
        },
        "papermill": {
          "duration": 0.3094,
          "end_time": "2022-09-17T14:57:01.054317",
          "exception": false,
          "start_time": "2022-09-17T14:57:00.744917",
          "status": "completed"
        },
        "tags": [],
        "id": "8b522058",
        "outputId": "f31856ef-7c97-460c-da1e-c42afa846f5d"
      },
      "outputs": [
        {
          "data": {
            "image/png": "[encoded data removed]",
            "text/plain": [
              "<Figure size 432x216 with 1 Axes>"
            ]
          },
          "metadata": {},
          "output_type": "display_data"
        }
      ],
      "source": [
        "p = sns.countplot(x='parental level of education', data = df, hue='Reading_PassStatus', palette='bright')\n",
        "_ = plt.setp(p.get_xticklabels(), rotation=90) "
      ]
    },
    {
      "cell_type": "markdown",
      "id": "f45e6297",
      "metadata": {
        "papermill": {
          "duration": 0.017417,
          "end_time": "2022-09-17T14:57:01.090454",
          "exception": false,
          "start_time": "2022-09-17T14:57:01.073037",
          "status": "completed"
        },
        "tags": [],
        "id": "f45e6297"
      },
      "source": [
        "Let us explore writing score"
      ]
    },
    {
      "cell_type": "code",
      "execution_count": null,
      "id": "caa0c215",
      "metadata": {
        "execution": {
          "iopub.execute_input": "2022-09-17T14:57:01.127896Z",
          "iopub.status.busy": "2022-09-17T14:57:01.127411Z",
          "iopub.status.idle": "2022-09-17T14:57:03.156233Z",
          "shell.execute_reply": "2022-09-17T14:57:03.154751Z"
        },
        "papermill": {
          "duration": 2.050978,
          "end_time": "2022-09-17T14:57:03.159034",
          "exception": false,
          "start_time": "2022-09-17T14:57:01.108056",
          "status": "completed"
        },
        "tags": [],
        "id": "caa0c215",
        "outputId": "2cb4dbb1-2d9e-4b4f-caa7-e9bc059eca9e"
      },
      "outputs": [
        {
          "data": {
            "image/png": "[encoded data removed]",
            "text/plain": [
              "<Figure size 432x216 with 1 Axes>"
            ]
          },
          "metadata": {},
          "output_type": "display_data"
        }
      ],
      "source": [
        "p = sns.countplot(x=\"writing score\", data = df, palette=\"muted\")\n",
        "_ = plt.setp(p.get_xticklabels(), rotation=90) "
      ]
    },
    {
      "cell_type": "markdown",
      "id": "591bf6b3",
      "metadata": {
        "papermill": {
          "duration": 0.019172,
          "end_time": "2022-09-17T14:57:03.197764",
          "exception": false,
          "start_time": "2022-09-17T14:57:03.178592",
          "status": "completed"
        },
        "tags": [],
        "id": "591bf6b3"
      },
      "source": [
        "How many students passed writing?"
      ]
    },
    {
      "cell_type": "code",
      "execution_count": null,
      "id": "e62a5eab",
      "metadata": {
        "execution": {
          "iopub.execute_input": "2022-09-17T14:57:03.239130Z",
          "iopub.status.busy": "2022-09-17T14:57:03.238640Z",
          "iopub.status.idle": "2022-09-17T14:57:03.250368Z",
          "shell.execute_reply": "2022-09-17T14:57:03.249211Z"
        },
        "papermill": {
          "duration": 0.035552,
          "end_time": "2022-09-17T14:57:03.253100",
          "exception": false,
          "start_time": "2022-09-17T14:57:03.217548",
          "status": "completed"
        },
        "tags": [],
        "id": "e62a5eab",
        "outputId": "17cb66a2-18c1-42b2-d08f-0c6240878cf8"
      },
      "outputs": [
        {
          "data": {
            "text/plain": [
              "P    968\n",
              "F     32\n",
              "Name: Writing_PassStatus, dtype: int64"
            ]
          },
          "execution_count": 23,
          "metadata": {},
          "output_type": "execute_result"
        }
      ],
      "source": [
        "df['Writing_PassStatus'] = np.where(df['writing score']<passmark, 'F', 'P')\n",
        "df.Writing_PassStatus.value_counts()"
      ]
    },
    {
      "cell_type": "code",
      "execution_count": null,
      "id": "c394851a",
      "metadata": {
        "execution": {
          "iopub.execute_input": "2022-09-17T14:57:03.292417Z",
          "iopub.status.busy": "2022-09-17T14:57:03.291904Z",
          "iopub.status.idle": "2022-09-17T14:57:03.604562Z",
          "shell.execute_reply": "2022-09-17T14:57:03.603221Z"
        },
        "papermill": {
          "duration": 0.335402,
          "end_time": "2022-09-17T14:57:03.607184",
          "exception": false,
          "start_time": "2022-09-17T14:57:03.271782",
          "status": "completed"
        },
        "tags": [],
        "id": "c394851a",
        "outputId": "8e5134c7-c4de-46dd-cc0c-caee7f57c18b"
      },
      "outputs": [
        {
          "data": {
            "image/png": "[encoded data removed]",
            "text/plain": [
              "<Figure size 432x216 with 1 Axes>"
            ]
          },
          "metadata": {},
          "output_type": "display_data"
        }
      ],
      "source": [
        "p = sns.countplot(x='parental level of education', data = df, hue='Writing_PassStatus', palette='bright')\n",
        "_ = plt.setp(p.get_xticklabels(), rotation=90) "
      ]
    },
    {
      "cell_type": "markdown",
      "id": "ae8de8ad",
      "metadata": {
        "papermill": {
          "duration": 0.018103,
          "end_time": "2022-09-17T14:57:03.643984",
          "exception": false,
          "start_time": "2022-09-17T14:57:03.625881",
          "status": "completed"
        },
        "tags": [],
        "id": "ae8de8ad"
      },
      "source": [
        "Let us check\"How many students passed in all subjects\"?"
      ]
    },
    {
      "cell_type": "code",
      "execution_count": null,
      "id": "a82f5e69",
      "metadata": {
        "execution": {
          "iopub.execute_input": "2022-09-17T14:57:03.682593Z",
          "iopub.status.busy": "2022-09-17T14:57:03.682154Z",
          "iopub.status.idle": "2022-09-17T14:57:03.717891Z",
          "shell.execute_reply": "2022-09-17T14:57:03.716256Z"
        },
        "papermill": {
          "duration": 0.058,
          "end_time": "2022-09-17T14:57:03.720330",
          "exception": false,
          "start_time": "2022-09-17T14:57:03.662330",
          "status": "completed"
        },
        "tags": [],
        "id": "a82f5e69",
        "outputId": "b897d175-3d51-49f3-9e52-758350c19733"
      },
      "outputs": [
        {
          "data": {
            "text/plain": [
              "P    949\n",
              "F     51\n",
              "Name: OverAll_PassStatus, dtype: int64"
            ]
          },
          "execution_count": 25,
          "metadata": {},
          "output_type": "execute_result"
        }
      ],
      "source": [
        "df['OverAll_PassStatus'] = df.apply(lambda x : 'F' if x['Math_PassStatus'] == 'F' or \n",
        "                                    x['Reading_PassStatus'] == 'F' or x['Writing_PassStatus'] == 'F' else 'P', axis =1)\n",
        "\n",
        "df.OverAll_PassStatus.value_counts()"
      ]
    },
    {
      "cell_type": "code",
      "execution_count": null,
      "id": "a5a5e43e",
      "metadata": {
        "execution": {
          "iopub.execute_input": "2022-09-17T14:57:03.759963Z",
          "iopub.status.busy": "2022-09-17T14:57:03.759447Z",
          "iopub.status.idle": "2022-09-17T14:57:04.071494Z",
          "shell.execute_reply": "2022-09-17T14:57:04.069886Z"
        },
        "papermill": {
          "duration": 0.336238,
          "end_time": "2022-09-17T14:57:04.075129",
          "exception": false,
          "start_time": "2022-09-17T14:57:03.738891",
          "status": "completed"
        },
        "tags": [],
        "id": "a5a5e43e",
        "outputId": "78e04e8e-3f8a-4f8d-b5d7-f6c334fc080c"
      },
      "outputs": [
        {
          "data": {
            "image/png": "[encoded data removed]",
            "text/plain": [
              "<Figure size 432x216 with 1 Axes>"
            ]
          },
          "metadata": {},
          "output_type": "display_data"
        }
      ],
      "source": [
        "p = sns.countplot(x='parental level of education', data = df, hue='OverAll_PassStatus', palette='bright')\n",
        "_ = plt.setp(p.get_xticklabels(), rotation=90) "
      ]
    },
    {
      "cell_type": "markdown",
      "id": "aa17811e",
      "metadata": {
        "papermill": {
          "duration": 0.020165,
          "end_time": "2022-09-17T14:57:04.117495",
          "exception": false,
          "start_time": "2022-09-17T14:57:04.097330",
          "status": "completed"
        },
        "tags": [],
        "id": "aa17811e"
      },
      "source": [
        "Find the percentage of marks"
      ]
    },
    {
      "cell_type": "code",
      "execution_count": null,
      "id": "834cca05",
      "metadata": {
        "execution": {
          "iopub.execute_input": "2022-09-17T14:57:04.160283Z",
          "iopub.status.busy": "2022-09-17T14:57:04.159765Z",
          "iopub.status.idle": "2022-09-17T14:57:04.169514Z",
          "shell.execute_reply": "2022-09-17T14:57:04.168081Z"
        },
        "papermill": {
          "duration": 0.035048,
          "end_time": "2022-09-17T14:57:04.172245",
          "exception": false,
          "start_time": "2022-09-17T14:57:04.137197",
          "status": "completed"
        },
        "tags": [],
        "id": "834cca05"
      },
      "outputs": [],
      "source": [
        "df['Total_Marks'] = df['math score']+df['reading score']+df['writing score']\n",
        "df['Percentage'] = df['Total_Marks']/3"
      ]
    },
    {
      "cell_type": "code",
      "execution_count": null,
      "id": "0f410675",
      "metadata": {
        "execution": {
          "iopub.execute_input": "2022-09-17T14:57:04.215386Z",
          "iopub.status.busy": "2022-09-17T14:57:04.214900Z",
          "iopub.status.idle": "2022-09-17T14:57:12.001632Z",
          "shell.execute_reply": "2022-09-17T14:57:12.000250Z"
        },
        "papermill": {
          "duration": 7.810796,
          "end_time": "2022-09-17T14:57:12.004422",
          "exception": false,
          "start_time": "2022-09-17T14:57:04.193626",
          "status": "completed"
        },
        "tags": [],
        "id": "0f410675",
        "outputId": "5a1303da-cb52-4b68-efb9-f910af497d52"
      },
      "outputs": [
        {
          "data": {
            "image/png": "[encoded data removed]",
            "text/plain": [
              "<Figure size 432x216 with 1 Axes>"
            ]
          },
          "metadata": {},
          "output_type": "display_data"
        }
      ],
      "source": [
        "p = sns.countplot(x=\"Percentage\", data = df, palette=\"muted\")\n",
        "_ = plt.setp(p.get_xticklabels(), rotation=0) "
      ]
    },
    {
      "cell_type": "markdown",
      "id": "2181b843",
      "metadata": {
        "papermill": {
          "duration": 0.019717,
          "end_time": "2022-09-17T14:57:12.044574",
          "exception": false,
          "start_time": "2022-09-17T14:57:12.024857",
          "status": "completed"
        },
        "tags": [],
        "id": "2181b843"
      },
      "source": [
        "Let us assign the grades\n",
        "Grading\n",
        "above 80 = A Grade\n",
        "70 to 80 = B Grade\n",
        "60 to 70 = C Grade\n",
        "50 to 60 = D Grade\n",
        "40 to 50 = E Grade\n",
        "below 40 = F Grade ( means Fail )"
      ]
    },
    {
      "cell_type": "code",
      "execution_count": null,
      "id": "914e073c",
      "metadata": {
        "execution": {
          "iopub.execute_input": "2022-09-17T14:57:12.085585Z",
          "iopub.status.busy": "2022-09-17T14:57:12.085192Z",
          "iopub.status.idle": "2022-09-17T14:57:12.119595Z",
          "shell.execute_reply": "2022-09-17T14:57:12.118256Z"
        },
        "papermill": {
          "duration": 0.058598,
          "end_time": "2022-09-17T14:57:12.122463",
          "exception": false,
          "start_time": "2022-09-17T14:57:12.063865",
          "status": "completed"
        },
        "tags": [],
        "id": "914e073c",
        "outputId": "8fbdc4d3-234c-4940-c8a7-cf7a3d124076"
      },
      "outputs": [
        {
          "data": {
            "text/plain": [
              "B    261\n",
              "C    256\n",
              "A    198\n",
              "D    178\n",
              "E     56\n",
              "F     51\n",
              "Name: Grade, dtype: int64"
            ]
          },
          "execution_count": 29,
          "metadata": {},
          "output_type": "execute_result"
        }
      ],
      "source": [
        "def GetGrade(Percentage, OverAll_PassStatus):\n",
        "    if ( OverAll_PassStatus == 'F'):\n",
        "        return 'F'    \n",
        "    if ( Percentage >= 80 ):\n",
        "        return 'A'\n",
        "    if ( Percentage >= 70):\n",
        "        return 'B'\n",
        "    if ( Percentage >= 60):\n",
        "        return 'C'\n",
        "    if ( Percentage >= 50):\n",
        "        return 'D'\n",
        "    if ( Percentage >= 40):\n",
        "        return 'E'\n",
        "    else: \n",
        "        return 'F'\n",
        "\n",
        "df['Grade'] = df.apply(lambda x : GetGrade(x['Percentage'], x['OverAll_PassStatus']), axis=1)\n",
        "\n",
        "df.Grade.value_counts()"
      ]
    },
    {
      "cell_type": "markdown",
      "id": "daadace6",
      "metadata": {
        "papermill": {
          "duration": 0.019563,
          "end_time": "2022-09-17T14:57:12.163432",
          "exception": false,
          "start_time": "2022-09-17T14:57:12.143869",
          "status": "completed"
        },
        "tags": [],
        "id": "daadace6"
      },
      "source": [
        "we will plot the grades obtained in a order"
      ]
    },
    {
      "cell_type": "code",
      "execution_count": null,
      "id": "7d83db6b",
      "metadata": {
        "execution": {
          "iopub.execute_input": "2022-09-17T14:57:12.206771Z",
          "iopub.status.busy": "2022-09-17T14:57:12.206315Z",
          "iopub.status.idle": "2022-09-17T14:57:12.397986Z",
          "shell.execute_reply": "2022-09-17T14:57:12.397065Z"
        },
        "papermill": {
          "duration": 0.216129,
          "end_time": "2022-09-17T14:57:12.400389",
          "exception": false,
          "start_time": "2022-09-17T14:57:12.184260",
          "status": "completed"
        },
        "tags": [],
        "id": "7d83db6b",
        "outputId": "bfe14c34-f82d-4c3e-e146-3f67cd8f7096"
      },
      "outputs": [
        {
          "data": {
            "image/png": "[encoded data removed]",
            "text/plain": [
              "<Figure size 432x216 with 1 Axes>"
            ]
          },
          "metadata": {},
          "output_type": "display_data"
        }
      ],
      "source": [
        "sns.countplot(x=\"Grade\", data = df, order=['A','B','C','D','E','F'],  palette=\"muted\")\n",
        "plt.show()"
      ]
    },
    {
      "cell_type": "code",
      "execution_count": null,
      "id": "515381c9",
      "metadata": {
        "execution": {
          "iopub.execute_input": "2022-09-17T14:57:12.444281Z",
          "iopub.status.busy": "2022-09-17T14:57:12.442775Z",
          "iopub.status.idle": "2022-09-17T14:57:12.851444Z",
          "shell.execute_reply": "2022-09-17T14:57:12.850005Z"
        },
        "papermill": {
          "duration": 0.433251,
          "end_time": "2022-09-17T14:57:12.854124",
          "exception": false,
          "start_time": "2022-09-17T14:57:12.420873",
          "status": "completed"
        },
        "tags": [],
        "id": "515381c9",
        "outputId": "990b3e39-5305-4bf3-80ee-7fb4c0d7795c"
      },
      "outputs": [
        {
          "data": {
            "image/png": "[encoded data removed]",
            "text/plain": [
              "<Figure size 432x216 with 1 Axes>"
            ]
          },
          "metadata": {},
          "output_type": "display_data"
        }
      ],
      "source": [
        "p = sns.countplot(x='parental level of education', data = df, hue='Grade', palette='bright')\n",
        "_ = plt.setp(p.get_xticklabels(), rotation=90) "
      ]
    },
    {
      "cell_type": "code",
      "execution_count": null,
      "id": "716f16a8",
      "metadata": {
        "execution": {
          "iopub.execute_input": "2022-09-17T14:57:12.900897Z",
          "iopub.status.busy": "2022-09-17T14:57:12.899772Z",
          "iopub.status.idle": "2022-09-17T14:57:12.907909Z",
          "shell.execute_reply": "2022-09-17T14:57:12.906719Z"
        },
        "papermill": {
          "duration": 0.034319,
          "end_time": "2022-09-17T14:57:12.910525",
          "exception": false,
          "start_time": "2022-09-17T14:57:12.876206",
          "status": "completed"
        },
        "tags": [],
        "id": "716f16a8",
        "outputId": "6ccbadef-5e5f-4e88-e215-1bff26e63356"
      },
      "outputs": [
        {
          "data": {
            "text/plain": [
              "<pandas.core.groupby.generic.DataFrameGroupBy object at 0x7fa6539ad550>"
            ]
          },
          "execution_count": 32,
          "metadata": {},
          "output_type": "execute_result"
        }
      ],
      "source": [
        "B = df.groupby('parental level of education')\n",
        "B"
      ]
    },
    {
      "cell_type": "code",
      "execution_count": null,
      "id": "210116f7",
      "metadata": {
        "execution": {
          "iopub.execute_input": "2022-09-17T14:57:12.955498Z",
          "iopub.status.busy": "2022-09-17T14:57:12.955056Z",
          "iopub.status.idle": "2022-09-17T14:57:13.024528Z",
          "shell.execute_reply": "2022-09-17T14:57:13.023270Z"
        },
        "papermill": {
          "duration": 0.097109,
          "end_time": "2022-09-17T14:57:13.028757",
          "exception": false,
          "start_time": "2022-09-17T14:57:12.931648",
          "status": "completed"
        },
        "tags": [],
        "id": "210116f7",
        "outputId": "79897813-257d-4a06-8b0c-49cf835a0827"
      },
      "outputs": [
        {
          "name": "stdout",
          "output_type": "stream",
          "text": [
            "level of education of parental: associate's degree\n",
            "-------------------------------------------------------\n",
            "df:      gender race/ethnicity parental level of education         lunch  \\\n",
            "3      male        group A          associate's degree  free/reduced   \n",
            "5    female        group B          associate's degree      standard   \n",
            "10     male        group C          associate's degree      standard   \n",
            "11     male        group D          associate's degree      standard   \n",
            "19   female        group C          associate's degree  free/reduced   \n",
            "..      ...            ...                         ...           ...   \n",
            "968  female        group E          associate's degree      standard   \n",
            "977    male        group C          associate's degree      standard   \n",
            "979  female        group C          associate's degree      standard   \n",
            "986  female        group C          associate's degree      standard   \n",
            "992  female        group D          associate's degree  free/reduced   \n",
            "\n",
            "    test preparation course  math score  reading score  writing score  \\\n",
            "3                      none          47             57             44   \n",
            "5                      none          71             83             78   \n",
            "10                     none          58             54             52   \n",
            "11                     none          40             52             43   \n",
            "19                     none          54             58             61   \n",
            "..                      ...         ...            ...            ...   \n",
            "968                    none          68             76             67   \n",
            "977                    none          62             65             58   \n",
            "979                    none          91             95             94   \n",
            "986                    none          40             59             51   \n",
            "992                    none          55             76             76   \n",
            "\n",
            "    Math_PassStatus Reading_PassStatus Writing_PassStatus OverAll_PassStatus  \\\n",
            "3                 P                  P                  P                  P   \n",
            "5                 P                  P                  P                  P   \n",
            "10                P                  P                  P                  P   \n",
            "11                P                  P                  P                  P   \n",
            "19                P                  P                  P                  P   \n",
            "..              ...                ...                ...                ...   \n",
            "968               P                  P                  P                  P   \n",
            "977               P                  P                  P                  P   \n",
            "979               P                  P                  P                  P   \n",
            "986               P                  P                  P                  P   \n",
            "992               P                  P                  P                  P   \n",
            "\n",
            "     Total_Marks  Percentage Grade  \n",
            "3            148   49.333333     E  \n",
            "5            232   77.333333     B  \n",
            "10           164   54.666667     D  \n",
            "11           135   45.000000     E  \n",
            "19           173   57.666667     D  \n",
            "..           ...         ...   ...  \n",
            "968          211   70.333333     B  \n",
            "977          185   61.666667     C  \n",
            "979          280   93.333333     A  \n",
            "986          150   50.000000     D  \n",
            "992          207   69.000000     C  \n",
            "\n",
            "[222 rows x 15 columns]\n",
            "level of education of parental: bachelor's degree\n",
            "-------------------------------------------------------\n",
            "df:      gender race/ethnicity parental level of education         lunch  \\\n",
            "0    female        group B           bachelor's degree      standard   \n",
            "24     male        group D           bachelor's degree  free/reduced   \n",
            "27   female        group C           bachelor's degree      standard   \n",
            "60     male        group E           bachelor's degree  free/reduced   \n",
            "77     male        group A           bachelor's degree      standard   \n",
            "..      ...            ...                         ...           ...   \n",
            "916    male        group E           bachelor's degree      standard   \n",
            "933    male        group C           bachelor's degree  free/reduced   \n",
            "969  female        group B           bachelor's degree      standard   \n",
            "970  female        group D           bachelor's degree      standard   \n",
            "993  female        group D           bachelor's degree  free/reduced   \n",
            "\n",
            "    test preparation course  math score  reading score  writing score  \\\n",
            "0                      none          72             72             74   \n",
            "24                completed          74             71             80   \n",
            "27                     none          67             69             75   \n",
            "60                completed          79             74             72   \n",
            "77                completed          80             78             81   \n",
            "..                      ...         ...            ...            ...   \n",
            "916               completed         100            100            100   \n",
            "933               completed          70             75             74   \n",
            "969                    none          75             84             80   \n",
            "970                    none          89            100            100   \n",
            "993                    none          62             72             74   \n",
            "\n",
            "    Math_PassStatus Reading_PassStatus Writing_PassStatus OverAll_PassStatus  \\\n",
            "0                 P                  P                  P                  P   \n",
            "24                P                  P                  P                  P   \n",
            "27                P                  P                  P                  P   \n",
            "60                P                  P                  P                  P   \n",
            "77                P                  P                  P                  P   \n",
            "..              ...                ...                ...                ...   \n",
            "916               P                  P                  P                  P   \n",
            "933               P                  P                  P                  P   \n",
            "969               P                  P                  P                  P   \n",
            "970               P                  P                  P                  P   \n",
            "993               P                  P                  P                  P   \n",
            "\n",
            "     Total_Marks  Percentage Grade  \n",
            "0            218   72.666667     B  \n",
            "24           225   75.000000     B  \n",
            "27           211   70.333333     B  \n",
            "60           225   75.000000     B  \n",
            "77           239   79.666667     B  \n",
            "..           ...         ...   ...  \n",
            "916          300  100.000000     A  \n",
            "933          219   73.000000     B  \n",
            "969          239   79.666667     B  \n",
            "970          289   96.333333     A  \n",
            "993          208   69.333333     C  \n",
            "\n",
            "[118 rows x 15 columns]\n",
            "level of education of parental: high school\n",
            "-------------------------------------------------------\n",
            "df:      gender race/ethnicity parental level of education         lunch  \\\n",
            "8      male        group D                 high school  free/reduced   \n",
            "9    female        group B                 high school  free/reduced   \n",
            "12   female        group B                 high school      standard   \n",
            "16     male        group C                 high school      standard   \n",
            "20     male        group D                 high school      standard   \n",
            "..      ...            ...                         ...           ...   \n",
            "985    male        group A                 high school      standard   \n",
            "990    male        group E                 high school  free/reduced   \n",
            "994    male        group A                 high school      standard   \n",
            "996    male        group C                 high school  free/reduced   \n",
            "997  female        group C                 high school  free/reduced   \n",
            "\n",
            "    test preparation course  math score  reading score  writing score  \\\n",
            "8                 completed          64             64             67   \n",
            "9                      none          38             60             50   \n",
            "12                     none          65             81             73   \n",
            "16                     none          88             89             86   \n",
            "20                     none          66             69             63   \n",
            "..                      ...         ...            ...            ...   \n",
            "985                    none          57             51             54   \n",
            "990               completed          86             81             75   \n",
            "994                    none          63             63             62   \n",
            "996                    none          62             55             55   \n",
            "997               completed          59             71             65   \n",
            "\n",
            "    Math_PassStatus Reading_PassStatus Writing_PassStatus OverAll_PassStatus  \\\n",
            "8                 P                  P                  P                  P   \n",
            "9                 F                  P                  P                  F   \n",
            "12                P                  P                  P                  P   \n",
            "16                P                  P                  P                  P   \n",
            "20                P                  P                  P                  P   \n",
            "..              ...                ...                ...                ...   \n",
            "985               P                  P                  P                  P   \n",
            "990               P                  P                  P                  P   \n",
            "994               P                  P                  P                  P   \n",
            "996               P                  P                  P                  P   \n",
            "997               P                  P                  P                  P   \n",
            "\n",
            "     Total_Marks  Percentage Grade  \n",
            "8            195   65.000000     C  \n",
            "9            148   49.333333     F  \n",
            "12           219   73.000000     B  \n",
            "16           263   87.666667     A  \n",
            "20           198   66.000000     C  \n",
            "..           ...         ...   ...  \n",
            "985          162   54.000000     D  \n",
            "990          242   80.666667     A  \n",
            "994          188   62.666667     C  \n",
            "996          172   57.333333     D  \n",
            "997          195   65.000000     C  \n",
            "\n",
            "[196 rows x 15 columns]\n",
            "level of education of parental: master's degree\n",
            "-------------------------------------------------------\n",
            "df:      gender race/ethnicity parental level of education         lunch  \\\n",
            "2    female        group B             master's degree      standard   \n",
            "14   female        group A             master's degree      standard   \n",
            "18     male        group C             master's degree  free/reduced   \n",
            "25     male        group A             master's degree  free/reduced   \n",
            "29   female        group D             master's degree      standard   \n",
            "32   female        group E             master's degree  free/reduced   \n",
            "79   female        group E             master's degree      standard   \n",
            "106  female        group D             master's degree      standard   \n",
            "128    male        group D             master's degree      standard   \n",
            "130    male        group D             master's degree      standard   \n",
            "162    male        group B             master's degree  free/reduced   \n",
            "164  female        group E             master's degree      standard   \n",
            "167  female        group B             master's degree  free/reduced   \n",
            "175  female        group C             master's degree      standard   \n",
            "178  female        group B             master's degree  free/reduced   \n",
            "180    male        group C             master's degree  free/reduced   \n",
            "194  female        group C             master's degree      standard   \n",
            "225  female        group E             master's degree  free/reduced   \n",
            "253    male        group D             master's degree      standard   \n",
            "259  female        group C             master's degree  free/reduced   \n",
            "316  female        group D             master's degree      standard   \n",
            "377  female        group D             master's degree  free/reduced   \n",
            "382    male        group C             master's degree  free/reduced   \n",
            "389    male        group D             master's degree      standard   \n",
            "410  female        group D             master's degree      standard   \n",
            "422  female        group D             master's degree  free/reduced   \n",
            "478  female        group D             master's degree      standard   \n",
            "500  female        group D             master's degree      standard   \n",
            "504  female        group D             master's degree  free/reduced   \n",
            "508    male        group C             master's degree      standard   \n",
            "514  female        group B             master's degree  free/reduced   \n",
            "523    male        group C             master's degree  free/reduced   \n",
            "544  female        group D             master's degree      standard   \n",
            "549    male        group C             master's degree      standard   \n",
            "557    male        group C             master's degree  free/reduced   \n",
            "567  female        group D             master's degree  free/reduced   \n",
            "579  female        group D             master's degree      standard   \n",
            "600  female        group D             master's degree      standard   \n",
            "604    male        group D             master's degree  free/reduced   \n",
            "607  female        group C             master's degree  free/reduced   \n",
            "618    male        group D             master's degree      standard   \n",
            "685  female        group E             master's degree      standard   \n",
            "713    male        group D             master's degree      standard   \n",
            "735    male        group C             master's degree      standard   \n",
            "752    male        group C             master's degree  free/reduced   \n",
            "781  female        group B             master's degree      standard   \n",
            "789  female        group C             master's degree  free/reduced   \n",
            "812  female        group C             master's degree      standard   \n",
            "845    male        group E             master's degree      standard   \n",
            "846    male        group C             master's degree      standard   \n",
            "850    male        group C             master's degree      standard   \n",
            "861  female        group E             master's degree  free/reduced   \n",
            "892  female        group A             master's degree  free/reduced   \n",
            "900    male        group D             master's degree      standard   \n",
            "901  female        group C             master's degree      standard   \n",
            "940    male        group C             master's degree  free/reduced   \n",
            "941  female        group D             master's degree      standard   \n",
            "957  female        group D             master's degree      standard   \n",
            "995  female        group E             master's degree      standard   \n",
            "\n",
            "    test preparation course  math score  reading score  writing score  \\\n",
            "2                      none          90             95             93   \n",
            "14                     none          50             53             58   \n",
            "18                completed          46             42             46   \n",
            "25                     none          73             74             72   \n",
            "29                     none          62             70             75   \n",
            "32                     none          56             72             65   \n",
            "79                     none          62             68             68   \n",
            "106                    none          87            100            100   \n",
            "128                    none          82             82             74   \n",
            "130                    none          89             84             82   \n",
            "162                    none          49             53             52   \n",
            "164                    none          81             92             91   \n",
            "167               completed          58             76             78   \n",
            "175               completed          81             91             87   \n",
            "178               completed          52             70             62   \n",
            "180               completed          62             68             75   \n",
            "194               completed          69             84             85   \n",
            "225                    none          45             56             54   \n",
            "253                    none          80             80             72   \n",
            "259               completed          65             81             81   \n",
            "316               completed          77             82             91   \n",
            "377               completed          85             95            100   \n",
            "382                    none          79             81             71   \n",
            "389                    none          73             70             75   \n",
            "410               completed          70             71             74   \n",
            "422               completed          47             58             67   \n",
            "478                    none          55             64             70   \n",
            "500                    none          74             79             82   \n",
            "504                    none          40             59             54   \n",
            "508                    none          79             78             77   \n",
            "514               completed          77             97             94   \n",
            "523                    none          54             59             50   \n",
            "544                    none          64             63             66   \n",
            "549                    none          79             72             69   \n",
            "557                    none          61             67             66   \n",
            "567               completed          61             71             78   \n",
            "579                    none          53             61             68   \n",
            "600                    none          54             60             63   \n",
            "604               completed          84             89             90   \n",
            "607                    none          40             58             54   \n",
            "618                    none          95             81             84   \n",
            "685               completed          94             99            100   \n",
            "713                    none          81             81             84   \n",
            "735                    none          67             57             59   \n",
            "752               completed          79             77             75   \n",
            "781                    none          77             90             84   \n",
            "789                    none          52             65             61   \n",
            "812               completed          54             64             67   \n",
            "845                    none          90             85             84   \n",
            "846               completed          91             85             85   \n",
            "850                    none          71             67             67   \n",
            "861                    none          81             86             87   \n",
            "892                    none          50             67             73   \n",
            "900                    none          85             84             89   \n",
            "901                    none          73             78             74   \n",
            "940               completed          72             66             72   \n",
            "941                    none          78             91             96   \n",
            "957                    none          92            100            100   \n",
            "995               completed          88             99             95   \n",
            "\n",
            "    Math_PassStatus Reading_PassStatus Writing_PassStatus OverAll_PassStatus  \\\n",
            "2                 P                  P                  P                  P   \n",
            "14                P                  P                  P                  P   \n",
            "18                P                  P                  P                  P   \n",
            "25                P                  P                  P                  P   \n",
            "29                P                  P                  P                  P   \n",
            "32                P                  P                  P                  P   \n",
            "79                P                  P                  P                  P   \n",
            "106               P                  P                  P                  P   \n",
            "128               P                  P                  P                  P   \n",
            "130               P                  P                  P                  P   \n",
            "162               P                  P                  P                  P   \n",
            "164               P                  P                  P                  P   \n",
            "167               P                  P                  P                  P   \n",
            "175               P                  P                  P                  P   \n",
            "178               P                  P                  P                  P   \n",
            "180               P                  P                  P                  P   \n",
            "194               P                  P                  P                  P   \n",
            "225               P                  P                  P                  P   \n",
            "253               P                  P                  P                  P   \n",
            "259               P                  P                  P                  P   \n",
            "316               P                  P                  P                  P   \n",
            "377               P                  P                  P                  P   \n",
            "382               P                  P                  P                  P   \n",
            "389               P                  P                  P                  P   \n",
            "410               P                  P                  P                  P   \n",
            "422               P                  P                  P                  P   \n",
            "478               P                  P                  P                  P   \n",
            "500               P                  P                  P                  P   \n",
            "504               P                  P                  P                  P   \n",
            "508               P                  P                  P                  P   \n",
            "514               P                  P                  P                  P   \n",
            "523               P                  P                  P                  P   \n",
            "544               P                  P                  P                  P   \n",
            "549               P                  P                  P                  P   \n",
            "557               P                  P                  P                  P   \n",
            "567               P                  P                  P                  P   \n",
            "579               P                  P                  P                  P   \n",
            "600               P                  P                  P                  P   \n",
            "604               P                  P                  P                  P   \n",
            "607               P                  P                  P                  P   \n",
            "618               P                  P                  P                  P   \n",
            "685               P                  P                  P                  P   \n",
            "713               P                  P                  P                  P   \n",
            "735               P                  P                  P                  P   \n",
            "752               P                  P                  P                  P   \n",
            "781               P                  P                  P                  P   \n",
            "789               P                  P                  P                  P   \n",
            "812               P                  P                  P                  P   \n",
            "845               P                  P                  P                  P   \n",
            "846               P                  P                  P                  P   \n",
            "850               P                  P                  P                  P   \n",
            "861               P                  P                  P                  P   \n",
            "892               P                  P                  P                  P   \n",
            "900               P                  P                  P                  P   \n",
            "901               P                  P                  P                  P   \n",
            "940               P                  P                  P                  P   \n",
            "941               P                  P                  P                  P   \n",
            "957               P                  P                  P                  P   \n",
            "995               P                  P                  P                  P   \n",
            "\n",
            "     Total_Marks  Percentage Grade  \n",
            "2            278   92.666667     A  \n",
            "14           161   53.666667     D  \n",
            "18           134   44.666667     E  \n",
            "25           219   73.000000     B  \n",
            "29           207   69.000000     C  \n",
            "32           193   64.333333     C  \n",
            "79           198   66.000000     C  \n",
            "106          287   95.666667     A  \n",
            "128          238   79.333333     B  \n",
            "130          255   85.000000     A  \n",
            "162          154   51.333333     D  \n",
            "164          264   88.000000     A  \n",
            "167          212   70.666667     B  \n",
            "175          259   86.333333     A  \n",
            "178          184   61.333333     C  \n",
            "180          205   68.333333     C  \n",
            "194          238   79.333333     B  \n",
            "225          155   51.666667     D  \n",
            "253          232   77.333333     B  \n",
            "259          227   75.666667     B  \n",
            "316          250   83.333333     A  \n",
            "377          280   93.333333     A  \n",
            "382          231   77.000000     B  \n",
            "389          218   72.666667     B  \n",
            "410          215   71.666667     B  \n",
            "422          172   57.333333     D  \n",
            "478          189   63.000000     C  \n",
            "500          235   78.333333     B  \n",
            "504          153   51.000000     D  \n",
            "508          234   78.000000     B  \n",
            "514          268   89.333333     A  \n",
            "523          163   54.333333     D  \n",
            "544          193   64.333333     C  \n",
            "549          220   73.333333     B  \n",
            "557          194   64.666667     C  \n",
            "567          210   70.000000     B  \n",
            "579          182   60.666667     C  \n",
            "600          177   59.000000     D  \n",
            "604          263   87.666667     A  \n",
            "607          152   50.666667     D  \n",
            "618          260   86.666667     A  \n",
            "685          293   97.666667     A  \n",
            "713          246   82.000000     A  \n",
            "735          183   61.000000     C  \n",
            "752          231   77.000000     B  \n",
            "781          251   83.666667     A  \n",
            "789          178   59.333333     D  \n",
            "812          185   61.666667     C  \n",
            "845          259   86.333333     A  \n",
            "846          261   87.000000     A  \n",
            "850          205   68.333333     C  \n",
            "861          254   84.666667     A  \n",
            "892          190   63.333333     C  \n",
            "900          258   86.000000     A  \n",
            "901          225   75.000000     B  \n",
            "940          210   70.000000     B  \n",
            "941          265   88.333333     A  \n",
            "957          292   97.333333     A  \n",
            "995          282   94.000000     A  \n",
            "level of education of parental: some college\n",
            "-------------------------------------------------------\n",
            "df:      gender race/ethnicity parental level of education         lunch  \\\n",
            "1    female        group C                some college      standard   \n",
            "4      male        group C                some college      standard   \n",
            "6    female        group B                some college      standard   \n",
            "7      male        group B                some college  free/reduced   \n",
            "13     male        group A                some college      standard   \n",
            "..      ...            ...                         ...           ...   \n",
            "976    male        group B                some college  free/reduced   \n",
            "983  female        group A                some college      standard   \n",
            "989  female        group D                some college  free/reduced   \n",
            "998  female        group D                some college      standard   \n",
            "999  female        group D                some college  free/reduced   \n",
            "\n",
            "    test preparation course  math score  reading score  writing score  \\\n",
            "1                 completed          69             90             88   \n",
            "4                      none          76             78             75   \n",
            "6                 completed          88             95             92   \n",
            "7                      none          40             43             39   \n",
            "13                completed          78             72             70   \n",
            "..                      ...         ...            ...            ...   \n",
            "976               completed          60             62             60   \n",
            "983               completed          78             87             91   \n",
            "989               completed          67             86             83   \n",
            "998               completed          68             78             77   \n",
            "999                    none          77             86             86   \n",
            "\n",
            "    Math_PassStatus Reading_PassStatus Writing_PassStatus OverAll_PassStatus  \\\n",
            "1                 P                  P                  P                  P   \n",
            "4                 P                  P                  P                  P   \n",
            "6                 P                  P                  P                  P   \n",
            "7                 P                  P                  F                  F   \n",
            "13                P                  P                  P                  P   \n",
            "..              ...                ...                ...                ...   \n",
            "976               P                  P                  P                  P   \n",
            "983               P                  P                  P                  P   \n",
            "989               P                  P                  P                  P   \n",
            "998               P                  P                  P                  P   \n",
            "999               P                  P                  P                  P   \n",
            "\n",
            "     Total_Marks  Percentage Grade  \n",
            "1            247   82.333333     A  \n",
            "4            229   76.333333     B  \n",
            "6            275   91.666667     A  \n",
            "7            122   40.666667     F  \n",
            "13           220   73.333333     B  \n",
            "..           ...         ...   ...  \n",
            "976          182   60.666667     C  \n",
            "983          256   85.333333     A  \n",
            "989          236   78.666667     B  \n",
            "998          223   74.333333     B  \n",
            "999          249   83.000000     A  \n",
            "\n",
            "[226 rows x 15 columns]\n",
            "level of education of parental: some high school\n",
            "-------------------------------------------------------\n",
            "df:      gender race/ethnicity parental level of education         lunch  \\\n",
            "15   female        group C            some high school      standard   \n",
            "17   female        group B            some high school  free/reduced   \n",
            "23   female        group C            some high school      standard   \n",
            "37   female        group D            some high school  free/reduced   \n",
            "54   female        group C            some high school  free/reduced   \n",
            "..      ...            ...                         ...           ...   \n",
            "982    male        group B            some high school      standard   \n",
            "984  female        group C            some high school      standard   \n",
            "987    male        group E            some high school      standard   \n",
            "988  female        group A            some high school  free/reduced   \n",
            "991  female        group B            some high school      standard   \n",
            "\n",
            "    test preparation course  math score  reading score  writing score  \\\n",
            "15                     none          69             75             78   \n",
            "17                     none          18             32             28   \n",
            "23                     none          69             73             73   \n",
            "37                     none          50             64             59   \n",
            "54                completed          71             84             87   \n",
            "..                      ...         ...            ...            ...   \n",
            "982               completed          79             85             86   \n",
            "984                    none          74             75             82   \n",
            "987               completed          81             75             76   \n",
            "988                    none          44             45             45   \n",
            "991               completed          65             82             78   \n",
            "\n",
            "    Math_PassStatus Reading_PassStatus Writing_PassStatus OverAll_PassStatus  \\\n",
            "15                P                  P                  P                  P   \n",
            "17                F                  F                  F                  F   \n",
            "23                P                  P                  P                  P   \n",
            "37                P                  P                  P                  P   \n",
            "54                P                  P                  P                  P   \n",
            "..              ...                ...                ...                ...   \n",
            "982               P                  P                  P                  P   \n",
            "984               P                  P                  P                  P   \n",
            "987               P                  P                  P                  P   \n",
            "988               P                  P                  P                  P   \n",
            "991               P                  P                  P                  P   \n",
            "\n",
            "     Total_Marks  Percentage Grade  \n",
            "15           222   74.000000     B  \n",
            "17            78   26.000000     F  \n",
            "23           215   71.666667     B  \n",
            "37           173   57.666667     D  \n",
            "54           242   80.666667     A  \n",
            "..           ...         ...   ...  \n",
            "982          250   83.333333     A  \n",
            "984          231   77.000000     B  \n",
            "987          232   77.333333     B  \n",
            "988          134   44.666667     E  \n",
            "991          225   75.000000     B  \n",
            "\n",
            "[179 rows x 15 columns]\n"
          ]
        }
      ],
      "source": [
        "for ParentalLevelOfEducation,df in B:\n",
        "    print('level of education of parental:',ParentalLevelOfEducation)\n",
        "    print('-------------------------------------------------------')\n",
        "    print('df:',df)"
      ]
    },
    {
      "cell_type": "code",
      "execution_count": null,
      "id": "b6b7115e",
      "metadata": {
        "execution": {
          "iopub.execute_input": "2022-09-17T14:57:13.079977Z",
          "iopub.status.busy": "2022-09-17T14:57:13.079493Z",
          "iopub.status.idle": "2022-09-17T14:57:13.098641Z",
          "shell.execute_reply": "2022-09-17T14:57:13.097626Z"
        },
        "papermill": {
          "duration": 0.046409,
          "end_time": "2022-09-17T14:57:13.101037",
          "exception": false,
          "start_time": "2022-09-17T14:57:13.054628",
          "status": "completed"
        },
        "tags": [],
        "id": "b6b7115e",
        "outputId": "601f1eb5-3a49-4c3d-8d6a-e736d9233e02"
      },
      "outputs": [
        {
          "data": {
            "text/html": [
              "<div>\n",
              "<style scoped>\n",
              "    .dataframe tbody tr th:only-of-type {\n",
              "        vertical-align: middle;\n",
              "    }\n",
              "\n",
              "    .dataframe tbody tr th {\n",
              "        vertical-align: top;\n",
              "    }\n",
              "\n",
              "    .dataframe thead th {\n",
              "        text-align: right;\n",
              "    }\n",
              "</style>\n",
              "<table border=\"1\" class=\"dataframe\">\n",
              "  <thead>\n",
              "    <tr style=\"text-align: right;\">\n",
              "      <th></th>\n",
              "      <th>parental level of education</th>\n",
              "      <th>Percentage</th>\n",
              "    </tr>\n",
              "  </thead>\n",
              "  <tbody>\n",
              "    <tr>\n",
              "      <th>0</th>\n",
              "      <td>some high school</td>\n",
              "      <td>65.108007</td>\n",
              "    </tr>\n",
              "  </tbody>\n",
              "</table>\n",
              "</div>"
            ],
            "text/plain": [
              "  parental level of education  Percentage\n",
              "0            some high school   65.108007"
            ]
          },
          "execution_count": 34,
          "metadata": {},
          "output_type": "execute_result"
        }
      ],
      "source": [
        "B1 = df.groupby('parental level of education')[['Percentage']].mean().reset_index()\n",
        "B1"
      ]
    },
    {
      "cell_type": "code",
      "execution_count": null,
      "id": "bea6da51",
      "metadata": {
        "execution": {
          "iopub.execute_input": "2022-09-17T14:57:13.150578Z",
          "iopub.status.busy": "2022-09-17T14:57:13.150076Z",
          "iopub.status.idle": "2022-09-17T14:57:13.165346Z",
          "shell.execute_reply": "2022-09-17T14:57:13.164000Z"
        },
        "papermill": {
          "duration": 0.043985,
          "end_time": "2022-09-17T14:57:13.168222",
          "exception": false,
          "start_time": "2022-09-17T14:57:13.124237",
          "status": "completed"
        },
        "tags": [],
        "id": "bea6da51",
        "outputId": "c2825a3c-88d4-4dc9-e495-a6a963d9f28a"
      },
      "outputs": [
        {
          "data": {
            "text/html": [
              "<div>\n",
              "<style scoped>\n",
              "    .dataframe tbody tr th:only-of-type {\n",
              "        vertical-align: middle;\n",
              "    }\n",
              "\n",
              "    .dataframe tbody tr th {\n",
              "        vertical-align: top;\n",
              "    }\n",
              "\n",
              "    .dataframe thead th {\n",
              "        text-align: right;\n",
              "    }\n",
              "</style>\n",
              "<table border=\"1\" class=\"dataframe\">\n",
              "  <thead>\n",
              "    <tr style=\"text-align: right;\">\n",
              "      <th></th>\n",
              "      <th>parental level of education</th>\n",
              "      <th>Total_Marks</th>\n",
              "    </tr>\n",
              "  </thead>\n",
              "  <tbody>\n",
              "    <tr>\n",
              "      <th>0</th>\n",
              "      <td>some high school</td>\n",
              "      <td>195.324022</td>\n",
              "    </tr>\n",
              "  </tbody>\n",
              "</table>\n",
              "</div>"
            ],
            "text/plain": [
              "  parental level of education  Total_Marks\n",
              "0            some high school   195.324022"
            ]
          },
          "execution_count": 35,
          "metadata": {},
          "output_type": "execute_result"
        }
      ],
      "source": [
        "B1 = df.groupby('parental level of education')[['Total_Marks']].mean().reset_index()\n",
        "B1"
      ]
    },
    {
      "cell_type": "markdown",
      "id": "5123048b",
      "metadata": {
        "papermill": {
          "duration": 0.021305,
          "end_time": "2022-09-17T14:57:13.210847",
          "exception": false,
          "start_time": "2022-09-17T14:57:13.189542",
          "status": "completed"
        },
        "tags": [],
        "id": "5123048b"
      },
      "source": [
        "So the parental level of education at some high school have a high percentage and high total marks we select this to analysis to create dataframe"
      ]
    },
    {
      "cell_type": "code",
      "execution_count": null,
      "id": "8384acb5",
      "metadata": {
        "execution": {
          "iopub.execute_input": "2022-09-17T14:57:13.255407Z",
          "iopub.status.busy": "2022-09-17T14:57:13.254619Z",
          "iopub.status.idle": "2022-09-17T14:57:13.280326Z",
          "shell.execute_reply": "2022-09-17T14:57:13.279129Z"
        },
        "papermill": {
          "duration": 0.050611,
          "end_time": "2022-09-17T14:57:13.282706",
          "exception": false,
          "start_time": "2022-09-17T14:57:13.232095",
          "status": "completed"
        },
        "tags": [],
        "id": "8384acb5",
        "outputId": "374765c7-f9df-4a71-d5fd-266d1acc1f56"
      },
      "outputs": [
        {
          "data": {
            "text/html": [
              "<div>\n",
              "<style scoped>\n",
              "    .dataframe tbody tr th:only-of-type {\n",
              "        vertical-align: middle;\n",
              "    }\n",
              "\n",
              "    .dataframe tbody tr th {\n",
              "        vertical-align: top;\n",
              "    }\n",
              "\n",
              "    .dataframe thead th {\n",
              "        text-align: right;\n",
              "    }\n",
              "</style>\n",
              "<table border=\"1\" class=\"dataframe\">\n",
              "  <thead>\n",
              "    <tr style=\"text-align: right;\">\n",
              "      <th></th>\n",
              "      <th>gender</th>\n",
              "      <th>race/ethnicity</th>\n",
              "      <th>parental level of education</th>\n",
              "      <th>lunch</th>\n",
              "      <th>test preparation course</th>\n",
              "      <th>math score</th>\n",
              "      <th>reading score</th>\n",
              "      <th>writing score</th>\n",
              "      <th>Math_PassStatus</th>\n",
              "      <th>Reading_PassStatus</th>\n",
              "      <th>Writing_PassStatus</th>\n",
              "      <th>OverAll_PassStatus</th>\n",
              "      <th>Total_Marks</th>\n",
              "      <th>Percentage</th>\n",
              "      <th>Grade</th>\n",
              "    </tr>\n",
              "  </thead>\n",
              "  <tbody>\n",
              "    <tr>\n",
              "      <th>15</th>\n",
              "      <td>female</td>\n",
              "      <td>group C</td>\n",
              "      <td>some high school</td>\n",
              "      <td>standard</td>\n",
              "      <td>none</td>\n",
              "      <td>69</td>\n",
              "      <td>75</td>\n",
              "      <td>78</td>\n",
              "      <td>P</td>\n",
              "      <td>P</td>\n",
              "      <td>P</td>\n",
              "      <td>P</td>\n",
              "      <td>222</td>\n",
              "      <td>74.000000</td>\n",
              "      <td>B</td>\n",
              "    </tr>\n",
              "    <tr>\n",
              "      <th>17</th>\n",
              "      <td>female</td>\n",
              "      <td>group B</td>\n",
              "      <td>some high school</td>\n",
              "      <td>free/reduced</td>\n",
              "      <td>none</td>\n",
              "      <td>18</td>\n",
              "      <td>32</td>\n",
              "      <td>28</td>\n",
              "      <td>F</td>\n",
              "      <td>F</td>\n",
              "      <td>F</td>\n",
              "      <td>F</td>\n",
              "      <td>78</td>\n",
              "      <td>26.000000</td>\n",
              "      <td>F</td>\n",
              "    </tr>\n",
              "    <tr>\n",
              "      <th>23</th>\n",
              "      <td>female</td>\n",
              "      <td>group C</td>\n",
              "      <td>some high school</td>\n",
              "      <td>standard</td>\n",
              "      <td>none</td>\n",
              "      <td>69</td>\n",
              "      <td>73</td>\n",
              "      <td>73</td>\n",
              "      <td>P</td>\n",
              "      <td>P</td>\n",
              "      <td>P</td>\n",
              "      <td>P</td>\n",
              "      <td>215</td>\n",
              "      <td>71.666667</td>\n",
              "      <td>B</td>\n",
              "    </tr>\n",
              "    <tr>\n",
              "      <th>37</th>\n",
              "      <td>female</td>\n",
              "      <td>group D</td>\n",
              "      <td>some high school</td>\n",
              "      <td>free/reduced</td>\n",
              "      <td>none</td>\n",
              "      <td>50</td>\n",
              "      <td>64</td>\n",
              "      <td>59</td>\n",
              "      <td>P</td>\n",
              "      <td>P</td>\n",
              "      <td>P</td>\n",
              "      <td>P</td>\n",
              "      <td>173</td>\n",
              "      <td>57.666667</td>\n",
              "      <td>D</td>\n",
              "    </tr>\n",
              "    <tr>\n",
              "      <th>54</th>\n",
              "      <td>female</td>\n",
              "      <td>group C</td>\n",
              "      <td>some high school</td>\n",
              "      <td>free/reduced</td>\n",
              "      <td>completed</td>\n",
              "      <td>71</td>\n",
              "      <td>84</td>\n",
              "      <td>87</td>\n",
              "      <td>P</td>\n",
              "      <td>P</td>\n",
              "      <td>P</td>\n",
              "      <td>P</td>\n",
              "      <td>242</td>\n",
              "      <td>80.666667</td>\n",
              "      <td>A</td>\n",
              "    </tr>\n",
              "    <tr>\n",
              "      <th>...</th>\n",
              "      <td>...</td>\n",
              "      <td>...</td>\n",
              "      <td>...</td>\n",
              "      <td>...</td>\n",
              "      <td>...</td>\n",
              "      <td>...</td>\n",
              "      <td>...</td>\n",
              "      <td>...</td>\n",
              "      <td>...</td>\n",
              "      <td>...</td>\n",
              "      <td>...</td>\n",
              "      <td>...</td>\n",
              "      <td>...</td>\n",
              "      <td>...</td>\n",
              "      <td>...</td>\n",
              "    </tr>\n",
              "    <tr>\n",
              "      <th>982</th>\n",
              "      <td>male</td>\n",
              "      <td>group B</td>\n",
              "      <td>some high school</td>\n",
              "      <td>standard</td>\n",
              "      <td>completed</td>\n",
              "      <td>79</td>\n",
              "      <td>85</td>\n",
              "      <td>86</td>\n",
              "      <td>P</td>\n",
              "      <td>P</td>\n",
              "      <td>P</td>\n",
              "      <td>P</td>\n",
              "      <td>250</td>\n",
              "      <td>83.333333</td>\n",
              "      <td>A</td>\n",
              "    </tr>\n",
              "    <tr>\n",
              "      <th>984</th>\n",
              "      <td>female</td>\n",
              "      <td>group C</td>\n",
              "      <td>some high school</td>\n",
              "      <td>standard</td>\n",
              "      <td>none</td>\n",
              "      <td>74</td>\n",
              "      <td>75</td>\n",
              "      <td>82</td>\n",
              "      <td>P</td>\n",
              "      <td>P</td>\n",
              "      <td>P</td>\n",
              "      <td>P</td>\n",
              "      <td>231</td>\n",
              "      <td>77.000000</td>\n",
              "      <td>B</td>\n",
              "    </tr>\n",
              "    <tr>\n",
              "      <th>987</th>\n",
              "      <td>male</td>\n",
              "      <td>group E</td>\n",
              "      <td>some high school</td>\n",
              "      <td>standard</td>\n",
              "      <td>completed</td>\n",
              "      <td>81</td>\n",
              "      <td>75</td>\n",
              "      <td>76</td>\n",
              "      <td>P</td>\n",
              "      <td>P</td>\n",
              "      <td>P</td>\n",
              "      <td>P</td>\n",
              "      <td>232</td>\n",
              "      <td>77.333333</td>\n",
              "      <td>B</td>\n",
              "    </tr>\n",
              "    <tr>\n",
              "      <th>988</th>\n",
              "      <td>female</td>\n",
              "      <td>group A</td>\n",
              "      <td>some high school</td>\n",
              "      <td>free/reduced</td>\n",
              "      <td>none</td>\n",
              "      <td>44</td>\n",
              "      <td>45</td>\n",
              "      <td>45</td>\n",
              "      <td>P</td>\n",
              "      <td>P</td>\n",
              "      <td>P</td>\n",
              "      <td>P</td>\n",
              "      <td>134</td>\n",
              "      <td>44.666667</td>\n",
              "      <td>E</td>\n",
              "    </tr>\n",
              "    <tr>\n",
              "      <th>991</th>\n",
              "      <td>female</td>\n",
              "      <td>group B</td>\n",
              "      <td>some high school</td>\n",
              "      <td>standard</td>\n",
              "      <td>completed</td>\n",
              "      <td>65</td>\n",
              "      <td>82</td>\n",
              "      <td>78</td>\n",
              "      <td>P</td>\n",
              "      <td>P</td>\n",
              "      <td>P</td>\n",
              "      <td>P</td>\n",
              "      <td>225</td>\n",
              "      <td>75.000000</td>\n",
              "      <td>B</td>\n",
              "    </tr>\n",
              "  </tbody>\n",
              "</table>\n",
              "<p>179 rows × 15 columns</p>\n",
              "</div>"
            ],
            "text/plain": [
              "     gender race/ethnicity parental level of education         lunch  \\\n",
              "15   female        group C            some high school      standard   \n",
              "17   female        group B            some high school  free/reduced   \n",
              "23   female        group C            some high school      standard   \n",
              "37   female        group D            some high school  free/reduced   \n",
              "54   female        group C            some high school  free/reduced   \n",
              "..      ...            ...                         ...           ...   \n",
              "982    male        group B            some high school      standard   \n",
              "984  female        group C            some high school      standard   \n",
              "987    male        group E            some high school      standard   \n",
              "988  female        group A            some high school  free/reduced   \n",
              "991  female        group B            some high school      standard   \n",
              "\n",
              "    test preparation course  math score  reading score  writing score  \\\n",
              "15                     none          69             75             78   \n",
              "17                     none          18             32             28   \n",
              "23                     none          69             73             73   \n",
              "37                     none          50             64             59   \n",
              "54                completed          71             84             87   \n",
              "..                      ...         ...            ...            ...   \n",
              "982               completed          79             85             86   \n",
              "984                    none          74             75             82   \n",
              "987               completed          81             75             76   \n",
              "988                    none          44             45             45   \n",
              "991               completed          65             82             78   \n",
              "\n",
              "    Math_PassStatus Reading_PassStatus Writing_PassStatus OverAll_PassStatus  \\\n",
              "15                P                  P                  P                  P   \n",
              "17                F                  F                  F                  F   \n",
              "23                P                  P                  P                  P   \n",
              "37                P                  P                  P                  P   \n",
              "54                P                  P                  P                  P   \n",
              "..              ...                ...                ...                ...   \n",
              "982               P                  P                  P                  P   \n",
              "984               P                  P                  P                  P   \n",
              "987               P                  P                  P                  P   \n",
              "988               P                  P                  P                  P   \n",
              "991               P                  P                  P                  P   \n",
              "\n",
              "     Total_Marks  Percentage Grade  \n",
              "15           222   74.000000     B  \n",
              "17            78   26.000000     F  \n",
              "23           215   71.666667     B  \n",
              "37           173   57.666667     D  \n",
              "54           242   80.666667     A  \n",
              "..           ...         ...   ...  \n",
              "982          250   83.333333     A  \n",
              "984          231   77.000000     B  \n",
              "987          232   77.333333     B  \n",
              "988          134   44.666667     E  \n",
              "991          225   75.000000     B  \n",
              "\n",
              "[179 rows x 15 columns]"
            ]
          },
          "execution_count": 36,
          "metadata": {},
          "output_type": "execute_result"
        }
      ],
      "source": [
        "x=B.get_group('some high school')\n",
        "x"
      ]
    },
    {
      "cell_type": "code",
      "execution_count": null,
      "id": "e3a94c7d",
      "metadata": {
        "execution": {
          "iopub.execute_input": "2022-09-17T14:57:13.327397Z",
          "iopub.status.busy": "2022-09-17T14:57:13.326964Z",
          "iopub.status.idle": "2022-09-17T14:57:13.332208Z",
          "shell.execute_reply": "2022-09-17T14:57:13.330741Z"
        },
        "papermill": {
          "duration": 0.030711,
          "end_time": "2022-09-17T14:57:13.334748",
          "exception": false,
          "start_time": "2022-09-17T14:57:13.304037",
          "status": "completed"
        },
        "tags": [],
        "id": "e3a94c7d"
      },
      "outputs": [],
      "source": [
        "some_high_school=pd.DataFrame(x)"
      ]
    },
    {
      "cell_type": "code",
      "execution_count": null,
      "id": "a7ae4909",
      "metadata": {
        "execution": {
          "iopub.execute_input": "2022-09-17T14:57:13.379398Z",
          "iopub.status.busy": "2022-09-17T14:57:13.378889Z",
          "iopub.status.idle": "2022-09-17T14:57:13.410276Z",
          "shell.execute_reply": "2022-09-17T14:57:13.408813Z"
        },
        "papermill": {
          "duration": 0.056937,
          "end_time": "2022-09-17T14:57:13.412973",
          "exception": false,
          "start_time": "2022-09-17T14:57:13.356036",
          "status": "completed"
        },
        "tags": [],
        "id": "a7ae4909",
        "outputId": "ae55bcff-b17d-41ba-a757-227f345289ad"
      },
      "outputs": [
        {
          "data": {
            "text/html": [
              "<div>\n",
              "<style scoped>\n",
              "    .dataframe tbody tr th:only-of-type {\n",
              "        vertical-align: middle;\n",
              "    }\n",
              "\n",
              "    .dataframe tbody tr th {\n",
              "        vertical-align: top;\n",
              "    }\n",
              "\n",
              "    .dataframe thead th {\n",
              "        text-align: right;\n",
              "    }\n",
              "</style>\n",
              "<table border=\"1\" class=\"dataframe\">\n",
              "  <thead>\n",
              "    <tr style=\"text-align: right;\">\n",
              "      <th></th>\n",
              "      <th>math score</th>\n",
              "      <th>reading score</th>\n",
              "      <th>writing score</th>\n",
              "      <th>Total_Marks</th>\n",
              "      <th>Percentage</th>\n",
              "    </tr>\n",
              "  </thead>\n",
              "  <tbody>\n",
              "    <tr>\n",
              "      <th>count</th>\n",
              "      <td>179.000000</td>\n",
              "      <td>179.000000</td>\n",
              "      <td>179.000000</td>\n",
              "      <td>179.000000</td>\n",
              "      <td>179.000000</td>\n",
              "    </tr>\n",
              "    <tr>\n",
              "      <th>mean</th>\n",
              "      <td>63.497207</td>\n",
              "      <td>66.938547</td>\n",
              "      <td>64.888268</td>\n",
              "      <td>195.324022</td>\n",
              "      <td>65.108007</td>\n",
              "    </tr>\n",
              "    <tr>\n",
              "      <th>std</th>\n",
              "      <td>15.927989</td>\n",
              "      <td>15.479295</td>\n",
              "      <td>15.736197</td>\n",
              "      <td>44.952235</td>\n",
              "      <td>14.984078</td>\n",
              "    </tr>\n",
              "    <tr>\n",
              "      <th>min</th>\n",
              "      <td>0.000000</td>\n",
              "      <td>17.000000</td>\n",
              "      <td>10.000000</td>\n",
              "      <td>27.000000</td>\n",
              "      <td>9.000000</td>\n",
              "    </tr>\n",
              "    <tr>\n",
              "      <th>25%</th>\n",
              "      <td>53.000000</td>\n",
              "      <td>56.500000</td>\n",
              "      <td>54.000000</td>\n",
              "      <td>167.000000</td>\n",
              "      <td>55.666667</td>\n",
              "    </tr>\n",
              "    <tr>\n",
              "      <th>50%</th>\n",
              "      <td>65.000000</td>\n",
              "      <td>67.000000</td>\n",
              "      <td>66.000000</td>\n",
              "      <td>200.000000</td>\n",
              "      <td>66.666667</td>\n",
              "    </tr>\n",
              "    <tr>\n",
              "      <th>75%</th>\n",
              "      <td>74.000000</td>\n",
              "      <td>79.000000</td>\n",
              "      <td>77.000000</td>\n",
              "      <td>229.500000</td>\n",
              "      <td>76.500000</td>\n",
              "    </tr>\n",
              "    <tr>\n",
              "      <th>max</th>\n",
              "      <td>97.000000</td>\n",
              "      <td>100.000000</td>\n",
              "      <td>100.000000</td>\n",
              "      <td>297.000000</td>\n",
              "      <td>99.000000</td>\n",
              "    </tr>\n",
              "  </tbody>\n",
              "</table>\n",
              "</div>"
            ],
            "text/plain": [
              "       math score  reading score  writing score  Total_Marks  Percentage\n",
              "count  179.000000     179.000000     179.000000   179.000000  179.000000\n",
              "mean    63.497207      66.938547      64.888268   195.324022   65.108007\n",
              "std     15.927989      15.479295      15.736197    44.952235   14.984078\n",
              "min      0.000000      17.000000      10.000000    27.000000    9.000000\n",
              "25%     53.000000      56.500000      54.000000   167.000000   55.666667\n",
              "50%     65.000000      67.000000      66.000000   200.000000   66.666667\n",
              "75%     74.000000      79.000000      77.000000   229.500000   76.500000\n",
              "max     97.000000     100.000000     100.000000   297.000000   99.000000"
            ]
          },
          "execution_count": 38,
          "metadata": {},
          "output_type": "execute_result"
        }
      ],
      "source": [
        "some_high_school.describe()"
      ]
    },
    {
      "cell_type": "markdown",
      "id": "7441e213",
      "metadata": {
        "papermill": {
          "duration": 0.022877,
          "end_time": "2022-09-17T14:57:13.458566",
          "exception": false,
          "start_time": "2022-09-17T14:57:13.435689",
          "status": "completed"
        },
        "tags": [],
        "id": "7441e213"
      },
      "source": [
        "Analysis some_high_school"
      ]
    },
    {
      "cell_type": "code",
      "execution_count": null,
      "id": "8bdd1b80",
      "metadata": {
        "execution": {
          "iopub.execute_input": "2022-09-17T14:57:13.509033Z",
          "iopub.status.busy": "2022-09-17T14:57:13.507571Z",
          "iopub.status.idle": "2022-09-17T14:57:13.522098Z",
          "shell.execute_reply": "2022-09-17T14:57:13.521250Z"
        },
        "papermill": {
          "duration": 0.042726,
          "end_time": "2022-09-17T14:57:13.524574",
          "exception": false,
          "start_time": "2022-09-17T14:57:13.481848",
          "status": "completed"
        },
        "tags": [],
        "id": "8bdd1b80",
        "outputId": "396d5754-d3e6-4e62-98ee-f6c8b96d0024"
      },
      "outputs": [
        {
          "data": {
            "text/html": [
              "<div>\n",
              "<style scoped>\n",
              "    .dataframe tbody tr th:only-of-type {\n",
              "        vertical-align: middle;\n",
              "    }\n",
              "\n",
              "    .dataframe tbody tr th {\n",
              "        vertical-align: top;\n",
              "    }\n",
              "\n",
              "    .dataframe thead th {\n",
              "        text-align: right;\n",
              "    }\n",
              "</style>\n",
              "<table border=\"1\" class=\"dataframe\">\n",
              "  <thead>\n",
              "    <tr style=\"text-align: right;\">\n",
              "      <th></th>\n",
              "      <th>race/ethnicity</th>\n",
              "      <th>Percentage</th>\n",
              "    </tr>\n",
              "  </thead>\n",
              "  <tbody>\n",
              "    <tr>\n",
              "      <th>0</th>\n",
              "      <td>group A</td>\n",
              "      <td>59.861111</td>\n",
              "    </tr>\n",
              "    <tr>\n",
              "      <th>1</th>\n",
              "      <td>group B</td>\n",
              "      <td>64.289474</td>\n",
              "    </tr>\n",
              "    <tr>\n",
              "      <th>2</th>\n",
              "      <td>group C</td>\n",
              "      <td>63.156463</td>\n",
              "    </tr>\n",
              "    <tr>\n",
              "      <th>3</th>\n",
              "      <td>group D</td>\n",
              "      <td>68.613333</td>\n",
              "    </tr>\n",
              "    <tr>\n",
              "      <th>4</th>\n",
              "      <td>group E</td>\n",
              "      <td>69.407407</td>\n",
              "    </tr>\n",
              "  </tbody>\n",
              "</table>\n",
              "</div>"
            ],
            "text/plain": [
              "  race/ethnicity  Percentage\n",
              "0        group A   59.861111\n",
              "1        group B   64.289474\n",
              "2        group C   63.156463\n",
              "3        group D   68.613333\n",
              "4        group E   69.407407"
            ]
          },
          "execution_count": 39,
          "metadata": {},
          "output_type": "execute_result"
        }
      ],
      "source": [
        "race_type=some_high_school.groupby('race/ethnicity')[['Percentage']].mean().reset_index()\n",
        "race_type"
      ]
    },
    {
      "cell_type": "code",
      "execution_count": null,
      "id": "60ccf7d7",
      "metadata": {
        "execution": {
          "iopub.execute_input": "2022-09-17T14:57:13.572582Z",
          "iopub.status.busy": "2022-09-17T14:57:13.572057Z",
          "iopub.status.idle": "2022-09-17T14:57:13.871669Z",
          "shell.execute_reply": "2022-09-17T14:57:13.870160Z"
        },
        "papermill": {
          "duration": 0.326501,
          "end_time": "2022-09-17T14:57:13.874521",
          "exception": false,
          "start_time": "2022-09-17T14:57:13.548020",
          "status": "completed"
        },
        "tags": [],
        "id": "60ccf7d7",
        "outputId": "7e206dbe-948c-40c8-9834-ba3d2a5c76f7"
      },
      "outputs": [
        {
          "data": {
            "text/plain": [
              "<AxesSubplot:>"
            ]
          },
          "execution_count": 40,
          "metadata": {},
          "output_type": "execute_result"
        },
        {
          "data": {
            "image/png": "[encoded data removed]",
            "text/plain": [
              "<Figure size 432x216 with 1 Axes>"
            ]
          },
          "metadata": {},
          "output_type": "display_data"
        }
      ],
      "source": [
        "# Histograms\n",
        "df['Total_Marks'].hist()"
      ]
    },
    {
      "cell_type": "code",
      "execution_count": null,
      "id": "8ec07449",
      "metadata": {
        "execution": {
          "iopub.execute_input": "2022-09-17T14:57:13.922215Z",
          "iopub.status.busy": "2022-09-17T14:57:13.921671Z",
          "iopub.status.idle": "2022-09-17T14:57:14.188728Z",
          "shell.execute_reply": "2022-09-17T14:57:14.187396Z"
        },
        "papermill": {
          "duration": 0.293812,
          "end_time": "2022-09-17T14:57:14.191308",
          "exception": false,
          "start_time": "2022-09-17T14:57:13.897496",
          "status": "completed"
        },
        "tags": [],
        "id": "8ec07449",
        "outputId": "635a4859-133a-4cb5-daef-93291df410a3"
      },
      "outputs": [
        {
          "data": {
            "text/plain": [
              "<AxesSubplot:>"
            ]
          },
          "execution_count": 41,
          "metadata": {},
          "output_type": "execute_result"
        },
        {
          "data": {
            "image/png": "[encoded data removed]",
            "text/plain": [
              "<Figure size 432x216 with 1 Axes>"
            ]
          },
          "metadata": {},
          "output_type": "display_data"
        }
      ],
      "source": [
        "df['Percentage'].hist()"
      ]
    },
    {
      "cell_type": "code",
      "execution_count": null,
      "id": "b92776b2",
      "metadata": {
        "execution": {
          "iopub.execute_input": "2022-09-17T14:57:14.239014Z",
          "iopub.status.busy": "2022-09-17T14:57:14.238480Z",
          "iopub.status.idle": "2022-09-17T14:57:14.456126Z",
          "shell.execute_reply": "2022-09-17T14:57:14.454886Z"
        },
        "papermill": {
          "duration": 0.244809,
          "end_time": "2022-09-17T14:57:14.459029",
          "exception": false,
          "start_time": "2022-09-17T14:57:14.214220",
          "status": "completed"
        },
        "tags": [],
        "id": "b92776b2",
        "outputId": "621891c2-386d-49ee-ae84-002e1e120cec"
      },
      "outputs": [
        {
          "data": {
            "text/plain": [
              "<AxesSubplot:>"
            ]
          },
          "execution_count": 42,
          "metadata": {},
          "output_type": "execute_result"
        },
        {
          "data": {
            "image/png": "[encoded data removed]",
            "text/plain": [
              "<Figure size 432x216 with 1 Axes>"
            ]
          },
          "metadata": {},
          "output_type": "display_data"
        }
      ],
      "source": [
        "df['lunch'].hist()"
      ]
    },
    {
      "cell_type": "code",
      "execution_count": null,
      "id": "639a41e5",
      "metadata": {
        "execution": {
          "iopub.execute_input": "2022-09-17T14:57:14.507880Z",
          "iopub.status.busy": "2022-09-17T14:57:14.507359Z",
          "iopub.status.idle": "2022-09-17T14:57:14.723871Z",
          "shell.execute_reply": "2022-09-17T14:57:14.722944Z"
        },
        "papermill": {
          "duration": 0.244041,
          "end_time": "2022-09-17T14:57:14.726402",
          "exception": false,
          "start_time": "2022-09-17T14:57:14.482361",
          "status": "completed"
        },
        "tags": [],
        "id": "639a41e5",
        "outputId": "a52f3b16-8c83-4f63-de36-442bf7483aa8"
      },
      "outputs": [
        {
          "data": {
            "text/plain": [
              "<AxesSubplot:>"
            ]
          },
          "execution_count": 43,
          "metadata": {},
          "output_type": "execute_result"
        },
        {
          "data": {
            "image/png": "[encoded data removed]",
            "text/plain": [
              "<Figure size 432x216 with 1 Axes>"
            ]
          },
          "metadata": {},
          "output_type": "display_data"
        }
      ],
      "source": [
        "df['Grade'].hist()"
      ]
    },
    {
      "cell_type": "code",
      "execution_count": null,
      "id": "0f7f2491",
      "metadata": {
        "execution": {
          "iopub.execute_input": "2022-09-17T14:57:14.780584Z",
          "iopub.status.busy": "2022-09-17T14:57:14.779841Z",
          "iopub.status.idle": "2022-09-17T14:57:14.939958Z",
          "shell.execute_reply": "2022-09-17T14:57:14.938553Z"
        },
        "papermill": {
          "duration": 0.191783,
          "end_time": "2022-09-17T14:57:14.942902",
          "exception": false,
          "start_time": "2022-09-17T14:57:14.751119",
          "status": "completed"
        },
        "tags": [],
        "id": "0f7f2491"
      },
      "outputs": [],
      "source": [
        "from sklearn.preprocessing import LabelEncoder\n",
        "le = LabelEncoder()"
      ]
    },
    {
      "cell_type": "code",
      "execution_count": null,
      "id": "653a426c",
      "metadata": {
        "execution": {
          "iopub.execute_input": "2022-09-17T14:57:14.992066Z",
          "iopub.status.busy": "2022-09-17T14:57:14.991597Z",
          "iopub.status.idle": "2022-09-17T14:57:15.012239Z",
          "shell.execute_reply": "2022-09-17T14:57:15.011259Z"
        },
        "papermill": {
          "duration": 0.047922,
          "end_time": "2022-09-17T14:57:15.014418",
          "exception": false,
          "start_time": "2022-09-17T14:57:14.966496",
          "status": "completed"
        },
        "tags": [],
        "id": "653a426c",
        "outputId": "fbd32913-d39d-487d-f471-9d2928250ab5"
      },
      "outputs": [
        {
          "data": {
            "text/html": [
              "<div>\n",
              "<style scoped>\n",
              "    .dataframe tbody tr th:only-of-type {\n",
              "        vertical-align: middle;\n",
              "    }\n",
              "\n",
              "    .dataframe tbody tr th {\n",
              "        vertical-align: top;\n",
              "    }\n",
              "\n",
              "    .dataframe thead th {\n",
              "        text-align: right;\n",
              "    }\n",
              "</style>\n",
              "<table border=\"1\" class=\"dataframe\">\n",
              "  <thead>\n",
              "    <tr style=\"text-align: right;\">\n",
              "      <th></th>\n",
              "      <th>gender</th>\n",
              "      <th>race/ethnicity</th>\n",
              "      <th>parental level of education</th>\n",
              "      <th>lunch</th>\n",
              "      <th>test preparation course</th>\n",
              "      <th>math score</th>\n",
              "      <th>reading score</th>\n",
              "      <th>writing score</th>\n",
              "      <th>Math_PassStatus</th>\n",
              "      <th>Reading_PassStatus</th>\n",
              "      <th>Writing_PassStatus</th>\n",
              "      <th>OverAll_PassStatus</th>\n",
              "      <th>Total_Marks</th>\n",
              "      <th>Percentage</th>\n",
              "      <th>Grade</th>\n",
              "    </tr>\n",
              "  </thead>\n",
              "  <tbody>\n",
              "    <tr>\n",
              "      <th>15</th>\n",
              "      <td>female</td>\n",
              "      <td>group C</td>\n",
              "      <td>0</td>\n",
              "      <td>standard</td>\n",
              "      <td>none</td>\n",
              "      <td>69</td>\n",
              "      <td>75</td>\n",
              "      <td>78</td>\n",
              "      <td>P</td>\n",
              "      <td>P</td>\n",
              "      <td>P</td>\n",
              "      <td>P</td>\n",
              "      <td>222</td>\n",
              "      <td>74.000000</td>\n",
              "      <td>B</td>\n",
              "    </tr>\n",
              "    <tr>\n",
              "      <th>17</th>\n",
              "      <td>female</td>\n",
              "      <td>group B</td>\n",
              "      <td>0</td>\n",
              "      <td>free/reduced</td>\n",
              "      <td>none</td>\n",
              "      <td>18</td>\n",
              "      <td>32</td>\n",
              "      <td>28</td>\n",
              "      <td>F</td>\n",
              "      <td>F</td>\n",
              "      <td>F</td>\n",
              "      <td>F</td>\n",
              "      <td>78</td>\n",
              "      <td>26.000000</td>\n",
              "      <td>F</td>\n",
              "    </tr>\n",
              "    <tr>\n",
              "      <th>23</th>\n",
              "      <td>female</td>\n",
              "      <td>group C</td>\n",
              "      <td>0</td>\n",
              "      <td>standard</td>\n",
              "      <td>none</td>\n",
              "      <td>69</td>\n",
              "      <td>73</td>\n",
              "      <td>73</td>\n",
              "      <td>P</td>\n",
              "      <td>P</td>\n",
              "      <td>P</td>\n",
              "      <td>P</td>\n",
              "      <td>215</td>\n",
              "      <td>71.666667</td>\n",
              "      <td>B</td>\n",
              "    </tr>\n",
              "    <tr>\n",
              "      <th>37</th>\n",
              "      <td>female</td>\n",
              "      <td>group D</td>\n",
              "      <td>0</td>\n",
              "      <td>free/reduced</td>\n",
              "      <td>none</td>\n",
              "      <td>50</td>\n",
              "      <td>64</td>\n",
              "      <td>59</td>\n",
              "      <td>P</td>\n",
              "      <td>P</td>\n",
              "      <td>P</td>\n",
              "      <td>P</td>\n",
              "      <td>173</td>\n",
              "      <td>57.666667</td>\n",
              "      <td>D</td>\n",
              "    </tr>\n",
              "    <tr>\n",
              "      <th>54</th>\n",
              "      <td>female</td>\n",
              "      <td>group C</td>\n",
              "      <td>0</td>\n",
              "      <td>free/reduced</td>\n",
              "      <td>completed</td>\n",
              "      <td>71</td>\n",
              "      <td>84</td>\n",
              "      <td>87</td>\n",
              "      <td>P</td>\n",
              "      <td>P</td>\n",
              "      <td>P</td>\n",
              "      <td>P</td>\n",
              "      <td>242</td>\n",
              "      <td>80.666667</td>\n",
              "      <td>A</td>\n",
              "    </tr>\n",
              "  </tbody>\n",
              "</table>\n",
              "</div>"
            ],
            "text/plain": [
              "    gender race/ethnicity  parental level of education         lunch  \\\n",
              "15  female        group C                            0      standard   \n",
              "17  female        group B                            0  free/reduced   \n",
              "23  female        group C                            0      standard   \n",
              "37  female        group D                            0  free/reduced   \n",
              "54  female        group C                            0  free/reduced   \n",
              "\n",
              "   test preparation course  math score  reading score  writing score  \\\n",
              "15                    none          69             75             78   \n",
              "17                    none          18             32             28   \n",
              "23                    none          69             73             73   \n",
              "37                    none          50             64             59   \n",
              "54               completed          71             84             87   \n",
              "\n",
              "   Math_PassStatus Reading_PassStatus Writing_PassStatus OverAll_PassStatus  \\\n",
              "15               P                  P                  P                  P   \n",
              "17               F                  F                  F                  F   \n",
              "23               P                  P                  P                  P   \n",
              "37               P                  P                  P                  P   \n",
              "54               P                  P                  P                  P   \n",
              "\n",
              "    Total_Marks  Percentage Grade  \n",
              "15          222   74.000000     B  \n",
              "17           78   26.000000     F  \n",
              "23          215   71.666667     B  \n",
              "37          173   57.666667     D  \n",
              "54          242   80.666667     A  "
            ]
          },
          "execution_count": 45,
          "metadata": {},
          "output_type": "execute_result"
        }
      ],
      "source": [
        "df['parental level of education']= le.fit_transform(df['parental level of education'])\n",
        "\n",
        "df.head()"
      ]
    }
  ],
  "metadata": {
    "kernelspec": {
      "display_name": "Python 3",
      "language": "python",
      "name": "python3"
    },
    "language_info": {
      "codemirror_mode": {
        "name": "ipython",
        "version": 3
      },
      "file_extension": ".py",
      "mimetype": "text/x-python",
      "name": "python",
      "nbconvert_exporter": "python",
      "pygments_lexer": "ipython3",
      "version": "3.7.12"
    },
    "papermill": {
      "default_parameters": {},
      "duration": 32.398552,
      "end_time": "2022-09-17T14:57:16.152342",
      "environment_variables": {},
      "exception": null,
      "input_path": "__notebook__.ipynb",
      "output_path": "__notebook__.ipynb",
      "parameters": {},
      "start_time": "2022-09-17T14:56:43.753790",
      "version": "2.3.4"
    },
    "colab": {
      "provenance": [],
      "collapsed_sections": [],
      "include_colab_link": true
    }
  },
  "nbformat": 4,
  "nbformat_minor": 5
}