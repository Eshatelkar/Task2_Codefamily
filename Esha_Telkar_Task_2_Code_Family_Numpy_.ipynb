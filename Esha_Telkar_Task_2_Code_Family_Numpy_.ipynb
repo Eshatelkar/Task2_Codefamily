{
  "cells": [
    {
      "cell_type": "markdown",
      "metadata": {
        "id": "view-in-github",
        "colab_type": "text"
      },
      "source": [
        "<a href=\"https://colab.research.google.com/github/Eshatelkar/Task2_Codefamily/blob/main/Esha_Telkar_Task_2_Code_Family_Numpy_.ipynb\" target=\"_parent\"><img src=\"https://colab.research.google.com/assets/colab-badge.svg\" alt=\"Open In Colab\"/></a>"
      ]
    },
    {
      "cell_type": "markdown",
      "source": [
        "# **Numpy**"
      ],
      "metadata": {
        "id": "3J8fq6FOXBdb"
      },
      "id": "3J8fq6FOXBdb"
    },
    {
      "cell_type": "markdown",
      "id": "f79953d7",
      "metadata": {
        "id": "f79953d7"
      },
      "source": [
        "## Import Numpy"
      ]
    },
    {
      "cell_type": "code",
      "execution_count": 1,
      "id": "be65691b",
      "metadata": {
        "id": "be65691b"
      },
      "outputs": [],
      "source": [
        "import numpy as np "
      ]
    },
    {
      "cell_type": "markdown",
      "id": "30486ae0",
      "metadata": {
        "id": "30486ae0"
      },
      "source": [
        "## Creating an Array"
      ]
    },
    {
      "cell_type": "code",
      "execution_count": 2,
      "id": "8a43d122",
      "metadata": {
        "id": "8a43d122",
        "outputId": "7cfa3d34-7319-4422-add3-8a1e0438de6f",
        "colab": {
          "base_uri": "https://localhost:8080/"
        }
      },
      "outputs": [
        {
          "output_type": "stream",
          "name": "stdout",
          "text": [
            "[1 2 3]\n",
            "[[1 2 3]\n",
            " [4 5 6]]\n",
            "[[1 3 5 7]\n",
            " [2 4 6 8]]\n"
          ]
        }
      ],
      "source": [
        "a = np.array([1,2,3])\n",
        "b = np.array([ [1,2,3], [4,5,6] ])\n",
        "c = np.array([ [1,3,5,7], [2,4,6,8] ])\n",
        "print(a)\n",
        "print(b)\n",
        "print(c)"
      ]
    },
    {
      "cell_type": "markdown",
      "id": "dc36f00a",
      "metadata": {
        "id": "dc36f00a"
      },
      "source": [
        "## Creating an Array with a specified DataType"
      ]
    },
    {
      "cell_type": "code",
      "execution_count": 3,
      "id": "7cb72640",
      "metadata": {
        "id": "7cb72640",
        "outputId": "98e190e7-3a25-4eb8-9fb5-6dc60033749c",
        "colab": {
          "base_uri": "https://localhost:8080/"
        }
      },
      "outputs": [
        {
          "output_type": "stream",
          "name": "stdout",
          "text": [
            "int64\n",
            "float16\n"
          ]
        }
      ],
      "source": [
        "d = np.array([2,3,5,7,9])\n",
        "print(d.dtype)\n",
        "\n",
        "#int32 => 32 bits is the size of each element i.e. 4 bytes.\n",
        "\n",
        "f_array = np.array([2,4,6,7,8], dtype = 'float16') \n",
        "print(f_array.dtype)\n",
        "\n",
        "##to change  datatype, use: f_array.astype(np.int32)"
      ]
    },
    {
      "cell_type": "markdown",
      "id": "b4af59d0",
      "metadata": {
        "id": "b4af59d0"
      },
      "source": [
        "##  (I) Basics"
      ]
    },
    {
      "cell_type": "markdown",
      "id": "21fdac8c",
      "metadata": {
        "id": "21fdac8c"
      },
      "source": [
        "#### 1. Dimensions"
      ]
    },
    {
      "cell_type": "code",
      "execution_count": 4,
      "id": "2e05d784",
      "metadata": {
        "id": "2e05d784",
        "outputId": "a542a2a5-cdd0-4fb2-c78f-d6bbea5ea525",
        "colab": {
          "base_uri": "https://localhost:8080/"
        }
      },
      "outputs": [
        {
          "output_type": "stream",
          "name": "stdout",
          "text": [
            "1\n",
            "2\n"
          ]
        }
      ],
      "source": [
        "dim_a = a.ndim\n",
        "dim_b = b.ndim\n",
        "print(dim_a)\n",
        "print(dim_b)"
      ]
    },
    {
      "cell_type": "markdown",
      "id": "d499ef1d",
      "metadata": {
        "id": "d499ef1d"
      },
      "source": [
        "#### Exercise 1.1"
      ]
    },
    {
      "cell_type": "code",
      "execution_count": 5,
      "id": "c9365c68",
      "metadata": {
        "id": "c9365c68",
        "outputId": "5eb2842b-5fcc-4bc1-e90e-1927569a36a0",
        "colab": {
          "base_uri": "https://localhost:8080/"
        }
      },
      "outputs": [
        {
          "output_type": "stream",
          "name": "stdout",
          "text": [
            "2\n"
          ]
        }
      ],
      "source": [
        "#Get the dimensions of c:\n",
        "dim_c = c.ndim\n",
        "print(dim_c)\n"
      ]
    },
    {
      "cell_type": "markdown",
      "id": "640b11bf",
      "metadata": {
        "id": "640b11bf"
      },
      "source": [
        "#### 2. Shape"
      ]
    },
    {
      "cell_type": "code",
      "execution_count": 6,
      "id": "650644d8",
      "metadata": {
        "id": "650644d8",
        "outputId": "1f563c75-a5fb-456a-f8c9-4ce21e5e0336",
        "colab": {
          "base_uri": "https://localhost:8080/"
        }
      },
      "outputs": [
        {
          "output_type": "stream",
          "name": "stdout",
          "text": [
            "(3,)\n",
            "(2, 3)\n"
          ]
        }
      ],
      "source": [
        "shape_a = a.shape\n",
        "shape_b = b.shape\n",
        "print(shape_a)\n",
        "print(shape_b)\n"
      ]
    },
    {
      "cell_type": "markdown",
      "id": "61b1bf81",
      "metadata": {
        "id": "61b1bf81"
      },
      "source": [
        "#### Exercise 1.2"
      ]
    },
    {
      "cell_type": "code",
      "execution_count": 7,
      "id": "4466ff4a",
      "metadata": {
        "id": "4466ff4a",
        "outputId": "1026daee-bee8-41ad-e4bb-129993338b99",
        "colab": {
          "base_uri": "https://localhost:8080/"
        }
      },
      "outputs": [
        {
          "output_type": "stream",
          "name": "stdout",
          "text": [
            "(2, 4)\n"
          ]
        }
      ],
      "source": [
        "#Get shape of C\n",
        "print(c.shape)"
      ]
    },
    {
      "cell_type": "markdown",
      "id": "5bcd4eb8",
      "metadata": {
        "id": "5bcd4eb8"
      },
      "source": [
        "#### 3. Item size"
      ]
    },
    {
      "cell_type": "code",
      "execution_count": 8,
      "id": "85f5f84d",
      "metadata": {
        "id": "85f5f84d",
        "outputId": "937c76ce-c037-49a4-fb1f-3eda73431d9e",
        "colab": {
          "base_uri": "https://localhost:8080/"
        }
      },
      "outputs": [
        {
          "output_type": "stream",
          "name": "stdout",
          "text": [
            "8\n",
            "8\n"
          ]
        }
      ],
      "source": [
        "\n",
        "#It returns the size of each element of the array in BYTES. Since we're using int32, that means \n",
        "#we have 32 bits, So to convert from bits to bytes, just divide by 8. 32/8=4.\n",
        "#Hence, we'll get 4 bytes as the answer every time.\n",
        "\n",
        "size_a = a.itemsize\n",
        "print(size_a)\n",
        "\n",
        "print(b.itemsize)"
      ]
    },
    {
      "cell_type": "markdown",
      "id": "4d46a024",
      "metadata": {
        "id": "4d46a024"
      },
      "source": [
        "#### 4. Size"
      ]
    },
    {
      "cell_type": "code",
      "execution_count": 9,
      "id": "ef8f7424",
      "metadata": {
        "id": "ef8f7424",
        "outputId": "d5583f8c-aa5b-438a-99f8-9f6c63ed6551",
        "colab": {
          "base_uri": "https://localhost:8080/"
        }
      },
      "outputs": [
        {
          "output_type": "stream",
          "name": "stdout",
          "text": [
            "3\n",
            "6\n"
          ]
        }
      ],
      "source": [
        "#It basically counts the number of elements in all the arrays in the given array. \n",
        "\n",
        "print(a.size)\n",
        "size_b = b.size\n",
        "print(size_b)\n",
        "#print(c.size)"
      ]
    },
    {
      "cell_type": "markdown",
      "id": "1e4ae664",
      "metadata": {
        "id": "1e4ae664"
      },
      "source": [
        "#### 5. Total Size"
      ]
    },
    {
      "cell_type": "code",
      "execution_count": 10,
      "id": "f660ed15",
      "metadata": {
        "id": "f660ed15"
      },
      "outputs": [],
      "source": [
        "\n",
        "#It basically gives us the size of the array, but in bytes.\n",
        "#i.e. the summation of itemsizes of all elements. \n",
        "#i.e. (a.size)*(a.itemsize)\n",
        "#Analogy: Suppose you have 4 items (length function) and each item weighs 1kg (itemsize).\n",
        "#How much is the total weight of the bag?\n",
        "#So what do you think is the total size of a and b?\n"
      ]
    },
    {
      "cell_type": "code",
      "execution_count": 11,
      "id": "35d9eaa3",
      "metadata": {
        "id": "35d9eaa3",
        "outputId": "45a8ce79-599b-4ba9-ffaa-b39270e84907",
        "colab": {
          "base_uri": "https://localhost:8080/"
        }
      },
      "outputs": [
        {
          "output_type": "stream",
          "name": "stdout",
          "text": [
            "24\n",
            "48\n",
            "64\n"
          ]
        }
      ],
      "source": [
        "tsize_a = a.nbytes\n",
        "print(tsize_a)\n",
        "\n",
        "print(b.nbytes)\n",
        "print(c.nbytes)"
      ]
    },
    {
      "cell_type": "markdown",
      "id": "1ce8d660",
      "metadata": {
        "id": "1ce8d660"
      },
      "source": [
        "## (II) Accessing elements, sequence of elements, rows and columns"
      ]
    },
    {
      "cell_type": "code",
      "execution_count": 12,
      "id": "5c8cf3ff",
      "metadata": {
        "id": "5c8cf3ff",
        "outputId": "ff38edef-d604-40b5-c944-f30aa2a1dfd8",
        "colab": {
          "base_uri": "https://localhost:8080/"
        }
      },
      "outputs": [
        {
          "output_type": "stream",
          "name": "stdout",
          "text": [
            "[[ 1  2  3  4  5]\n",
            " [ 6  7  8  9 10]\n",
            " [11 12 13 14 15]\n",
            " [16 17 18 19 20]\n",
            " [21 22 23 24 25]]\n"
          ]
        }
      ],
      "source": [
        "a = np.array([[1,2,3,4,5],[6,7,8,9,10],[11,12,13,14,15],[16,17,18,19,20],[21,22,23,24,25]])\n",
        "print(a)"
      ]
    },
    {
      "cell_type": "markdown",
      "id": "36d0621c",
      "metadata": {
        "id": "36d0621c"
      },
      "source": [
        "#### 1. Accessing a specific element "
      ]
    },
    {
      "cell_type": "markdown",
      "id": "ae2d5948",
      "metadata": {
        "id": "ae2d5948"
      },
      "source": [
        "#### Exercise 2.1"
      ]
    },
    {
      "cell_type": "code",
      "execution_count": 13,
      "id": "8b1b2f09",
      "metadata": {
        "id": "8b1b2f09",
        "outputId": "4018fb0a-9701-4ac2-88a9-00ec4ed5491d",
        "colab": {
          "base_uri": "https://localhost:8080/"
        }
      },
      "outputs": [
        {
          "output_type": "stream",
          "name": "stdout",
          "text": [
            "8\n",
            "11\n",
            "19\n"
          ]
        }
      ],
      "source": [
        "#Access 8 in a:\n",
        "print(a[1,2])\n",
        "#Access 11 \n",
        "print(a[2,0])\n",
        "#Access 19\n",
        "print(a[-2,-2])"
      ]
    },
    {
      "cell_type": "markdown",
      "id": "5b7b214c",
      "metadata": {
        "id": "5b7b214c"
      },
      "source": [
        "#### 2. Accessing an entire row:"
      ]
    },
    {
      "cell_type": "code",
      "execution_count": 14,
      "id": "7b22e7ef",
      "metadata": {
        "id": "7b22e7ef",
        "outputId": "eecbbcc9-2c00-4dc6-b409-6a4f431c6e91",
        "colab": {
          "base_uri": "https://localhost:8080/"
        }
      },
      "outputs": [
        {
          "output_type": "stream",
          "name": "stdout",
          "text": [
            "[ 6  7  8  9 10]\n"
          ]
        }
      ],
      "source": [
        "#To access the second row of a, do:\n",
        "second_row = a[1,:]\n",
        "print(second_row)"
      ]
    },
    {
      "cell_type": "markdown",
      "id": "f3298ca4",
      "metadata": {
        "id": "f3298ca4"
      },
      "source": [
        "#### Exercise 2.2"
      ]
    },
    {
      "cell_type": "code",
      "execution_count": 15,
      "id": "ae774c66",
      "metadata": {
        "id": "ae774c66",
        "outputId": "087a42ac-bae0-4383-f13c-760a08fd232c",
        "colab": {
          "base_uri": "https://localhost:8080/"
        }
      },
      "outputs": [
        {
          "output_type": "stream",
          "name": "stdout",
          "text": [
            "[21 22 23 24 25]\n"
          ]
        }
      ],
      "source": [
        "#access last row:\n",
        "print(a[-1,:])"
      ]
    },
    {
      "cell_type": "markdown",
      "id": "39b16766",
      "metadata": {
        "id": "39b16766"
      },
      "source": [
        "#### 3. Accessing an entire column:"
      ]
    },
    {
      "cell_type": "code",
      "execution_count": 16,
      "id": "797959c3",
      "metadata": {
        "id": "797959c3",
        "outputId": "bd8c2f85-1eed-43b2-a362-00552589bef7",
        "colab": {
          "base_uri": "https://localhost:8080/"
        }
      },
      "outputs": [
        {
          "output_type": "stream",
          "name": "stdout",
          "text": [
            "[ 1  6 11 16 21]\n",
            "[ 5 10 15 20 25]\n"
          ]
        }
      ],
      "source": [
        "#To access the first column:\n",
        "first_column = a[:,0]\n",
        "print(first_column)\n",
        "\n",
        "last_column = a[:,-1]\n",
        "print(last_column)"
      ]
    },
    {
      "cell_type": "markdown",
      "id": "29ecee7e",
      "metadata": {
        "id": "29ecee7e"
      },
      "source": [
        "#### Exercise 2.3"
      ]
    },
    {
      "cell_type": "code",
      "execution_count": 17,
      "id": "2315706f",
      "metadata": {
        "id": "2315706f",
        "outputId": "420fc3ce-8447-4fde-edcc-42efdb1ad0c9",
        "colab": {
          "base_uri": "https://localhost:8080/"
        }
      },
      "outputs": [
        {
          "output_type": "stream",
          "name": "stdout",
          "text": [
            "[ 4  9 14 19 24]\n",
            "[ 2  7 12 17 22]\n"
          ]
        }
      ],
      "source": [
        "#access 4th column:\n",
        "print(a[:,-2])\n",
        "#access 2nd column:\n",
        "print(a[:,1])"
      ]
    },
    {
      "cell_type": "markdown",
      "id": "09c58ac5",
      "metadata": {
        "id": "09c58ac5"
      },
      "source": [
        "#### 4. Accessing a sequence of elements and displaying them as a single array:\n",
        "#### SEQUENCE INDEXING"
      ]
    },
    {
      "cell_type": "code",
      "execution_count": 18,
      "id": "c473ec7d",
      "metadata": {
        "id": "c473ec7d",
        "outputId": "c7af35b5-32ab-4f9e-af90-7e3992e52339",
        "colab": {
          "base_uri": "https://localhost:8080/"
        }
      },
      "outputs": [
        {
          "output_type": "stream",
          "name": "stdout",
          "text": [
            "[12 13 14]\n"
          ]
        }
      ],
      "source": [
        "#syntax: a[start index : end index : step]\n",
        "#For example, suppose we have to access elements from 10 to 12. Then do:\n",
        "array1 = a[2,1:4:1]\n",
        "print(array1)\n",
        "\n",
        "#Second example: access elements 13 and 15"
      ]
    },
    {
      "cell_type": "markdown",
      "id": "d2dbf287",
      "metadata": {
        "id": "d2dbf287"
      },
      "source": [
        "#### Exercise 2.4"
      ]
    },
    {
      "cell_type": "code",
      "execution_count": 19,
      "id": "c4e6939f",
      "metadata": {
        "id": "c4e6939f",
        "outputId": "0463ad83-eb55-45cd-e70d-3a3ad594d833",
        "colab": {
          "base_uri": "https://localhost:8080/"
        }
      },
      "outputs": [
        {
          "output_type": "stream",
          "name": "stdout",
          "text": [
            "[[11 12]\n",
            " [16 17]]\n",
            "[[ 8  9 10]\n",
            " [13 14 15]\n",
            " [18 19 20]]\n",
            "[[ 1  3  5]\n",
            " [11 13 15]\n",
            " [21 23 25]]\n",
            "[ 2  8 14 20]\n",
            "[[ 4  5]\n",
            " [14 15]\n",
            " [19 20]]\n"
          ]
        }
      ],
      "source": [
        "#Block accessing 1 - step = 1\n",
        "#Access 11,12,16,17\n",
        "print(a[2:4:1,0:2:1])\n",
        "\n",
        "#Block accessing 2 - step = 1\n",
        "#Access 8,9,10,13,14,15,18,19,20\n",
        "print(a[1:4:1,2:5:1])\n",
        "\n",
        "#Block accessing 3 - step = 2\n",
        "#Access 1,3,5,11,13,15,21,23,25\n",
        "print(a[0:5:2,0:5:2])\n",
        "\n",
        "#Diagonal accessing\n",
        "#Access 2,8,14,20\n",
        "print(a[[0,1,2,3],[1,2,3,4]])\n",
        "\n",
        "#Random Accessing\n",
        "#Access 4,5,14,15,19,20\n",
        "print(a[[0,2,3],3:5:1])"
      ]
    },
    {
      "cell_type": "code",
      "execution_count": 20,
      "id": "fc29660a",
      "metadata": {
        "id": "fc29660a",
        "outputId": "114b42fd-9cd9-43f5-ba3a-c15acfbc98af",
        "colab": {
          "base_uri": "https://localhost:8080/"
        }
      },
      "outputs": [
        {
          "output_type": "stream",
          "name": "stdout",
          "text": [
            "[[ 1  2  3]\n",
            " [ 6  7  8]\n",
            " [16 17 18]\n",
            " [21 22 23]]\n"
          ]
        }
      ],
      "source": [
        "x = a[[4,3,2,1,0],[0,1,2,3,4]]\n",
        "y = a[0:5:1,0:3:1]\n",
        "z = a[[0,1,3,4],0:2:1]\n",
        "w = a[0:4:1,0:2:1]\n",
        "print(a[[0,1,3,4],0:3:1])"
      ]
    },
    {
      "cell_type": "markdown",
      "id": "f814bc97",
      "metadata": {
        "id": "f814bc97"
      },
      "source": [
        "## (III) Changing Elements "
      ]
    },
    {
      "cell_type": "markdown",
      "id": "98575c5c",
      "metadata": {
        "id": "98575c5c"
      },
      "source": [
        "#### 1. Changing elements:"
      ]
    },
    {
      "cell_type": "code",
      "execution_count": 21,
      "id": "8c0d7e6d",
      "metadata": {
        "id": "8c0d7e6d",
        "outputId": "0a68a4f6-821b-4531-839d-32b02fe5c9fa",
        "colab": {
          "base_uri": "https://localhost:8080/"
        }
      },
      "outputs": [
        {
          "output_type": "stream",
          "name": "stdout",
          "text": [
            "[[  1   2   3   4   5]\n",
            " [  6   7   8   9 100]\n",
            " [ 11  12  13  14  15]\n",
            " [ 16  17  18  19  20]\n",
            " [ 21  22  23  24  25]]\n"
          ]
        }
      ],
      "source": [
        "#Now that we've learnt how to access a particular element, it's quite simple to change \n",
        "#that accessed element(s).\n",
        "#For example, if we want to change 10 to 100, we access 10 and change it to 100 by :\n",
        "a[1,4] = 100\n",
        "print(a)\n"
      ]
    },
    {
      "cell_type": "markdown",
      "id": "1f9596e3",
      "metadata": {
        "id": "1f9596e3"
      },
      "source": [
        "#### Exercise 3.1"
      ]
    },
    {
      "cell_type": "code",
      "execution_count": 22,
      "id": "44039e38",
      "metadata": {
        "id": "44039e38",
        "outputId": "61e61fb3-2433-4bf9-a64a-4e9a166f878a",
        "colab": {
          "base_uri": "https://localhost:8080/"
        }
      },
      "outputs": [
        {
          "output_type": "stream",
          "name": "stdout",
          "text": [
            "[[  1   2   3   4   5]\n",
            " [  6   7   8   9 100]\n",
            " [ 11  12  13  14  15]\n",
            " [ 16  17  18  19 200]\n",
            " [ 21  22  23  24  25]]\n"
          ]
        }
      ],
      "source": [
        "#Change 20 to 200\n",
        "a[3,4]=200\n",
        "print(a)"
      ]
    },
    {
      "cell_type": "markdown",
      "id": "bf714079",
      "metadata": {
        "id": "bf714079"
      },
      "source": [
        "#### 2. Changing an entire row"
      ]
    },
    {
      "cell_type": "code",
      "execution_count": 23,
      "id": "6baf8cca",
      "metadata": {
        "id": "6baf8cca",
        "outputId": "1b64943b-3073-45d4-f2b4-7aa26096e910",
        "colab": {
          "base_uri": "https://localhost:8080/"
        }
      },
      "outputs": [
        {
          "output_type": "stream",
          "name": "stdout",
          "text": [
            "[[  1   2   3   4   5]\n",
            " [  6   7   8   9 100]\n",
            " [ 11  12  13  14  15]\n",
            " [ 16  17  18  19 200]\n",
            " [ 50  50  50  50  50]]\n"
          ]
        }
      ],
      "source": [
        "#make it so that all the elements in the last row are 50\n",
        "a[4,:]=50\n",
        "print(a)"
      ]
    },
    {
      "cell_type": "markdown",
      "id": "6c066425",
      "metadata": {
        "id": "6c066425"
      },
      "source": [
        "#### Exercise 3.2 "
      ]
    },
    {
      "cell_type": "code",
      "execution_count": 24,
      "id": "adcc76c0",
      "metadata": {
        "id": "adcc76c0",
        "outputId": "eed4a106-29c2-409c-a9cd-1d9576bf0a8b",
        "colab": {
          "base_uri": "https://localhost:8080/"
        }
      },
      "outputs": [
        {
          "output_type": "stream",
          "name": "stdout",
          "text": [
            "[[  1   2   3   4   5]\n",
            " [  6   7   8   9 100]\n",
            " [ 72  72  72  72  72]\n",
            " [ 16  17  18  19 200]\n",
            " [ 50  50  50  50  50]]\n"
          ]
        }
      ],
      "source": [
        "#Change all the elements of the third row to 72\n",
        "a[2,:]=72\n",
        "print(a)"
      ]
    },
    {
      "cell_type": "markdown",
      "id": "b150669c",
      "metadata": {
        "id": "b150669c"
      },
      "source": [
        "#### 3. Changing an entire column"
      ]
    },
    {
      "cell_type": "code",
      "execution_count": 25,
      "id": "60376b2f",
      "metadata": {
        "id": "60376b2f",
        "outputId": "ced9b504-d5f7-45c0-a519-400206b101cf",
        "colab": {
          "base_uri": "https://localhost:8080/"
        }
      },
      "outputs": [
        {
          "output_type": "stream",
          "name": "stdout",
          "text": [
            "[[ 1  2  3  4 80]\n",
            " [ 6  7  8  9 80]\n",
            " [72 72 72 72 80]\n",
            " [16 17 18 19 80]\n",
            " [50 50 50 50 80]]\n"
          ]
        }
      ],
      "source": [
        "#make it so that all the elements of the last column are 80 \n",
        "a[:,4]=80\n",
        "print(a)"
      ]
    },
    {
      "cell_type": "markdown",
      "id": "dc8ce28f",
      "metadata": {
        "id": "dc8ce28f"
      },
      "source": [
        "#### Exercise 3.3"
      ]
    },
    {
      "cell_type": "code",
      "execution_count": 26,
      "id": "54ee42e8",
      "metadata": {
        "id": "54ee42e8",
        "outputId": "324ac068-9312-4441-8229-a626efea5130",
        "colab": {
          "base_uri": "https://localhost:8080/"
        }
      },
      "outputs": [
        {
          "output_type": "stream",
          "name": "stdout",
          "text": [
            "[[ 1 77  3  4 80]\n",
            " [ 6 77  8  9 80]\n",
            " [72 77 72 72 80]\n",
            " [16 77 18 19 80]\n",
            " [50 77 50 50 80]]\n"
          ]
        }
      ],
      "source": [
        "#Make it so that all the elements in the second column are 77\n",
        "a[:,1]=77\n",
        "print(a)"
      ]
    },
    {
      "cell_type": "markdown",
      "id": "6533a4ab",
      "metadata": {
        "id": "6533a4ab"
      },
      "source": [
        "#### 4. Changing a row/column to specified elements"
      ]
    },
    {
      "cell_type": "code",
      "execution_count": 27,
      "id": "08bc3543",
      "metadata": {
        "id": "08bc3543",
        "outputId": "bcf60c82-939a-4cc4-cea9-2d78f214c977",
        "colab": {
          "base_uri": "https://localhost:8080/"
        }
      },
      "outputs": [
        {
          "output_type": "stream",
          "name": "stdout",
          "text": [
            "[[10 20 30 40 50]\n",
            " [ 6 77  8  9 80]\n",
            " [72 77 72 72 80]\n",
            " [16 77 18 19 80]\n",
            " [50 77 50 50 80]]\n"
          ]
        }
      ],
      "source": [
        "a[0,:]=10,20,30,40,50\n",
        "print(a)"
      ]
    },
    {
      "cell_type": "markdown",
      "id": "ba4c3b56",
      "metadata": {
        "id": "ba4c3b56"
      },
      "source": [
        "#### Exercise 3.4"
      ]
    },
    {
      "cell_type": "code",
      "execution_count": 28,
      "id": "250c87fb",
      "metadata": {
        "id": "250c87fb",
        "outputId": "bc0eff9c-d301-42dd-d0c0-d3a7625ebed2",
        "colab": {
          "base_uri": "https://localhost:8080/"
        }
      },
      "outputs": [
        {
          "output_type": "stream",
          "name": "stdout",
          "text": [
            "[[ 10  20  30  40 100]\n",
            " [  6  77   8   9 200]\n",
            " [ 72  77  72  72 300]\n",
            " [ 16  77  18  19 400]\n",
            " [ 50  77  50  50 500]]\n"
          ]
        }
      ],
      "source": [
        "#Using column replacements, change the last column to elements 100,200,300,400,500\n",
        "a[:,4] = [100,200,300,400,500]\n",
        "print(a)"
      ]
    },
    {
      "cell_type": "markdown",
      "id": "fccb0d51",
      "metadata": {
        "id": "fccb0d51"
      },
      "source": [
        "## (IV) Intitializing (creating) different types of arrays"
      ]
    },
    {
      "cell_type": "markdown",
      "id": "c556fb6b",
      "metadata": {
        "id": "c556fb6b"
      },
      "source": [
        "#### 1. All 0s and all 1s matrix"
      ]
    },
    {
      "cell_type": "code",
      "execution_count": 29,
      "id": "6ac91d6a",
      "metadata": {
        "id": "6ac91d6a",
        "outputId": "5773300b-4626-43a0-bb9f-e8d6f289a9cf",
        "colab": {
          "base_uri": "https://localhost:8080/"
        }
      },
      "outputs": [
        {
          "output_type": "stream",
          "name": "stdout",
          "text": [
            "[[0. 0. 0. 0.]\n",
            " [0. 0. 0. 0.]\n",
            " [0. 0. 0. 0.]]\n",
            "[[1. 1. 1.]\n",
            " [1. 1. 1.]\n",
            " [1. 1. 1.]\n",
            " [1. 1. 1.]]\n"
          ]
        }
      ],
      "source": [
        "#This will create a matrix of given shape such that all elements in it are zeroes\n",
        "matrix1 = np.zeros((3,4))\n",
        "print(matrix1)\n",
        "\n",
        "matrix2 = np.ones((4,3))\n",
        "print(matrix2)\n"
      ]
    },
    {
      "cell_type": "markdown",
      "id": "5c74a76d",
      "metadata": {
        "id": "5c74a76d"
      },
      "source": [
        "#### Exercise 4.1 "
      ]
    },
    {
      "cell_type": "code",
      "execution_count": 30,
      "id": "b00d9694",
      "metadata": {
        "id": "b00d9694",
        "outputId": "a12d4972-fb61-4fe1-dd4f-ac4fcbc97e95",
        "colab": {
          "base_uri": "https://localhost:8080/"
        }
      },
      "outputs": [
        {
          "output_type": "stream",
          "name": "stdout",
          "text": [
            "[[0. 0. 0. 0. 0. 0. 0. 0. 0.]\n",
            " [0. 0. 0. 0. 0. 0. 0. 0. 0.]\n",
            " [0. 0. 0. 0. 0. 0. 0. 0. 0.]]\n"
          ]
        }
      ],
      "source": [
        "#Create an all zeroes matrix with 9 columns and 3 rows\n",
        "print(np.zeros((3,9)))"
      ]
    },
    {
      "cell_type": "markdown",
      "id": "27c8e979",
      "metadata": {
        "id": "27c8e979"
      },
      "source": [
        "#### 2. All Ns matrix"
      ]
    },
    {
      "cell_type": "code",
      "execution_count": 31,
      "id": "2bd5cdc7",
      "metadata": {
        "id": "2bd5cdc7",
        "outputId": "866bdd73-517e-4d99-d2fc-a6cf4866fa72",
        "colab": {
          "base_uri": "https://localhost:8080/"
        }
      },
      "outputs": [
        {
          "output_type": "stream",
          "name": "stdout",
          "text": [
            "[[96 96 96 96]\n",
            " [96 96 96 96]\n",
            " [96 96 96 96]]\n"
          ]
        }
      ],
      "source": [
        "#create a matrix with a given number N of shape mxn\n",
        "matrix3 = np.full((3,4),96)\n",
        "print(matrix3)"
      ]
    },
    {
      "cell_type": "markdown",
      "id": "9fabcde3",
      "metadata": {
        "id": "9fabcde3"
      },
      "source": [
        "#### 3. Full Like Matrices"
      ]
    },
    {
      "cell_type": "code",
      "execution_count": 32,
      "id": "7e6bb722",
      "metadata": {
        "id": "7e6bb722",
        "outputId": "cd860aa7-3ba6-4886-ffa6-aa101d3e971f",
        "colab": {
          "base_uri": "https://localhost:8080/"
        }
      },
      "outputs": [
        {
          "output_type": "stream",
          "name": "stdout",
          "text": [
            "[[7 7 7 7 7]\n",
            " [7 7 7 7 7]\n",
            " [7 7 7 7 7]\n",
            " [7 7 7 7 7]\n",
            " [7 7 7 7 7]]\n"
          ]
        }
      ],
      "source": [
        "matrix3 = np.full_like(a,7)\n",
        "print(matrix3)\n"
      ]
    },
    {
      "cell_type": "markdown",
      "id": "ea2f3360",
      "metadata": {
        "id": "ea2f3360"
      },
      "source": [
        "#### 4. Random integer matrices "
      ]
    },
    {
      "cell_type": "code",
      "execution_count": 33,
      "id": "587e9f4a",
      "metadata": {
        "id": "587e9f4a",
        "outputId": "3777a164-43b6-4a9a-89cb-9c36f1209079",
        "colab": {
          "base_uri": "https://localhost:8080/"
        }
      },
      "outputs": [
        {
          "output_type": "stream",
          "name": "stdout",
          "text": [
            "[[9 8 8 0]\n",
            " [0 5 9 7]\n",
            " [0 2 7 3]\n",
            " [1 9 6 0]]\n",
            "[[19 20 13]\n",
            " [11 18 16]\n",
            " [15 15 18]]\n"
          ]
        }
      ],
      "source": [
        "matrix4 = np.random.randint(10,size=(4,4))\n",
        "print(matrix4)\n",
        "#note that 10 is excluded\n",
        "\n",
        "#creating a matrix with random integers from 11 to 20\n",
        "matrix5 = np.random.randint(11,21, size =(3,3))\n",
        "print(matrix5)\n",
        "#note that 11 is included, 21 is excluded"
      ]
    },
    {
      "cell_type": "markdown",
      "id": "21b13fe6",
      "metadata": {
        "id": "21b13fe6"
      },
      "source": [
        "#### 5. Random floating point value matrices"
      ]
    },
    {
      "cell_type": "code",
      "execution_count": 34,
      "id": "4f79065e",
      "metadata": {
        "id": "4f79065e",
        "outputId": "18cbe0dd-cdfc-4c2f-e772-ace2a181fa66",
        "colab": {
          "base_uri": "https://localhost:8080/"
        }
      },
      "outputs": [
        {
          "output_type": "stream",
          "name": "stdout",
          "text": [
            "[[0.49362592 0.26867703]\n",
            " [0.53820285 0.48593932]]\n"
          ]
        }
      ],
      "source": [
        "matrix6 = np.random.rand(2,2)\n",
        "print(matrix6)"
      ]
    },
    {
      "cell_type": "markdown",
      "id": "00b3478a",
      "metadata": {
        "id": "00b3478a"
      },
      "source": [
        "#### 6. Identity Matrices\n"
      ]
    },
    {
      "cell_type": "code",
      "execution_count": 35,
      "id": "2bfe5405",
      "metadata": {
        "id": "2bfe5405",
        "outputId": "d9170c1b-ad5e-4aea-9dfd-d3a859b8c504",
        "colab": {
          "base_uri": "https://localhost:8080/"
        }
      },
      "outputs": [
        {
          "output_type": "stream",
          "name": "stdout",
          "text": [
            "[[1. 0. 0.]\n",
            " [0. 1. 0.]\n",
            " [0. 0. 1.]]\n"
          ]
        }
      ],
      "source": [
        "matrix7 = np.identity(3)\n",
        "print(matrix7)"
      ]
    },
    {
      "cell_type": "markdown",
      "id": "a941d666",
      "metadata": {
        "id": "a941d666"
      },
      "source": [
        "## (V) Mathematical Operations on Matrices"
      ]
    },
    {
      "cell_type": "markdown",
      "id": "92baaa23",
      "metadata": {
        "id": "92baaa23"
      },
      "source": [
        "#### 1. Addition, Subtraction"
      ]
    },
    {
      "cell_type": "code",
      "execution_count": 36,
      "id": "15321f36",
      "metadata": {
        "id": "15321f36",
        "outputId": "b1703fb4-4f07-486c-ff8e-f95d885989a0",
        "colab": {
          "base_uri": "https://localhost:8080/"
        }
      },
      "outputs": [
        {
          "output_type": "stream",
          "name": "stdout",
          "text": [
            "[[2 3 4]\n",
            " [5 6 7]]\n"
          ]
        }
      ],
      "source": [
        "#One of the advantages of using numpy is that we can straightaway add numbers to an entire array\n",
        "#for example:\n",
        "matrix8 = np.array([[1,2,3],[4,5,6]])\n",
        "matrix9 = matrix8 + 1\n",
        "print(matrix9)"
      ]
    },
    {
      "cell_type": "markdown",
      "id": "e1251e8d",
      "metadata": {
        "id": "e1251e8d"
      },
      "source": [
        "#### 2. Multiplication, Division"
      ]
    },
    {
      "cell_type": "code",
      "execution_count": 37,
      "id": "bcbc5c10",
      "metadata": {
        "id": "bcbc5c10",
        "outputId": "4146100d-e718-435d-e42f-9469e214a814",
        "colab": {
          "base_uri": "https://localhost:8080/"
        }
      },
      "outputs": [
        {
          "output_type": "stream",
          "name": "stdout",
          "text": [
            "[ 1.  2.  3.  4.  5.  6.  7.  8.  9. 10.]\n"
          ]
        }
      ],
      "source": [
        "matrix10 = np.array([10,20,30,40,50,60,70,80,90,100])\n",
        "matrix11 = matrix10/10\n",
        "print(matrix11)"
      ]
    },
    {
      "cell_type": "code",
      "execution_count": 38,
      "id": "7b18b26a",
      "metadata": {
        "id": "7b18b26a",
        "outputId": "c01b3567-e3f7-4cc6-a300-8165d677a31c",
        "colab": {
          "base_uri": "https://localhost:8080/"
        }
      },
      "outputs": [
        {
          "output_type": "stream",
          "name": "stdout",
          "text": [
            "[ 10.  20.  30.  40.  50.  60.  70.  80.  90. 100.]\n"
          ]
        }
      ],
      "source": [
        "matrix12 = matrix11 * 10\n",
        "print(matrix12)"
      ]
    },
    {
      "cell_type": "code",
      "execution_count": 39,
      "id": "df7a11dd",
      "metadata": {
        "id": "df7a11dd",
        "outputId": "bb1e2895-c771-4013-b539-a4fc3307cc08",
        "colab": {
          "base_uri": "https://localhost:8080/"
        }
      },
      "outputs": [
        {
          "output_type": "stream",
          "name": "stdout",
          "text": [
            "[ 10  20  30  40  50  60  70  80  90 100]\n"
          ]
        }
      ],
      "source": [
        "matrix12 = matrix12.astype(np.int32)\n",
        "print(matrix12)"
      ]
    },
    {
      "cell_type": "markdown",
      "id": "68cfa585",
      "metadata": {
        "id": "68cfa585"
      },
      "source": [
        "#### 3. Linear Algebra "
      ]
    },
    {
      "cell_type": "markdown",
      "id": "190d626c",
      "metadata": {
        "id": "190d626c"
      },
      "source": [
        "##### 3.1 Addition "
      ]
    },
    {
      "cell_type": "code",
      "execution_count": 40,
      "id": "32f3ad71",
      "metadata": {
        "id": "32f3ad71",
        "outputId": "bae696da-8f79-4f5d-acd4-4f5347012418",
        "colab": {
          "base_uri": "https://localhost:8080/"
        }
      },
      "outputs": [
        {
          "output_type": "stream",
          "name": "stdout",
          "text": [
            "[1, 2, 3, 4, 5, 5, 4, 3, 2, 1]\n",
            "[6 6 6 6 6]\n"
          ]
        }
      ],
      "source": [
        "#intuitively:\n",
        "a = ([1,2,3,4,5])\n",
        "b = ([5,4,3,2,1])\n",
        "c = a+b\n",
        "print(c)\n",
        "\n",
        "#you'll have to use the numpy function to add two arrays.\n",
        "\n",
        "d=np.add(a,b)\n",
        "print(d)\n"
      ]
    },
    {
      "cell_type": "markdown",
      "id": "ca308c51",
      "metadata": {
        "id": "ca308c51"
      },
      "source": [
        "##### 3.2 Subtraction"
      ]
    },
    {
      "cell_type": "code",
      "execution_count": 41,
      "id": "c8f68b7d",
      "metadata": {
        "id": "c8f68b7d",
        "outputId": "26015704-ad1e-4736-c0d6-b3c872387d23",
        "colab": {
          "base_uri": "https://localhost:8080/"
        }
      },
      "outputs": [
        {
          "output_type": "stream",
          "name": "stdout",
          "text": [
            "[-4 -2  0  2  4]\n"
          ]
        }
      ],
      "source": [
        "#Now that you must have got an idea of how things work, I want you guys to try out subtraction \n",
        "#on your own. Subtract the above matrices a and b\n",
        "\n",
        "e = np.subtract(a,b)\n",
        "print(e)"
      ]
    },
    {
      "cell_type": "markdown",
      "id": "109caac9",
      "metadata": {
        "id": "109caac9"
      },
      "source": [
        "##### 3.3 Multiplication"
      ]
    },
    {
      "cell_type": "code",
      "execution_count": 42,
      "id": "2207178b",
      "metadata": {
        "id": "2207178b",
        "outputId": "683e8faf-28d6-46fb-a08c-e88f9581102f",
        "colab": {
          "base_uri": "https://localhost:8080/"
        }
      },
      "outputs": [
        {
          "output_type": "stream",
          "name": "stdout",
          "text": [
            "[[1. 0. 0.]\n",
            " [0. 5. 0.]\n",
            " [0. 0. 9.]]\n",
            "[[1. 2. 3.]\n",
            " [4. 5. 6.]\n",
            " [7. 8. 9.]]\n"
          ]
        }
      ],
      "source": [
        "#MULTIPLICATION\n",
        "\n",
        "a = np.array([[1,2,3],[4,5,6],[7,8,9]])\n",
        "b = np.identity(3)\n",
        "\n",
        "#Do it the conventional way and you'll realise this is not matrix multiplication. \n",
        "#It's just multiplying the arrays.\n",
        "\n",
        "c = a*b\n",
        "print(c)\n",
        "\n",
        "#For this, we have to use a numpy function like this:\n",
        "d = np.matmul(a,b)\n",
        "print(d)"
      ]
    },
    {
      "cell_type": "markdown",
      "id": "d370a15b",
      "metadata": {
        "id": "d370a15b"
      },
      "source": [
        "##### 3.4 Division \n"
      ]
    },
    {
      "cell_type": "code",
      "execution_count": 43,
      "id": "13d229fd",
      "metadata": {
        "id": "13d229fd",
        "outputId": "1ed254cd-00c2-4a0a-83b0-0160a382ba50",
        "colab": {
          "base_uri": "https://localhost:8080/"
        }
      },
      "outputs": [
        {
          "output_type": "stream",
          "name": "stdout",
          "text": [
            "[1. 2. 3. 4. 5.]\n",
            "[1 2 3 4 5]\n"
          ]
        }
      ],
      "source": [
        "a = np.array([2,4,6,8,10])\n",
        "b = np.array([2,2,2,2,2])\n",
        "c = np.divide(a,b)\n",
        "print(c)\n",
        "\n",
        "#I want the answer to be in int32\n",
        "print(c.astype(np.int32))"
      ]
    },
    {
      "cell_type": "markdown",
      "id": "80b28fe1",
      "metadata": {
        "id": "80b28fe1"
      },
      "source": [
        "##### 3.5 Determinant"
      ]
    },
    {
      "cell_type": "code",
      "execution_count": 44,
      "id": "95802131",
      "metadata": {
        "id": "95802131",
        "outputId": "c31ec09d-7d53-4666-d237-ba2ac445a70d",
        "colab": {
          "base_uri": "https://localhost:8080/"
        }
      },
      "outputs": [
        {
          "output_type": "stream",
          "name": "stdout",
          "text": [
            "1.0\n"
          ]
        }
      ],
      "source": [
        "#I'm going to ask you guys a very simple question: What is the most fundamental difference between a \n",
        "#Matrix and a Determinant?\n",
        "#Ans: Matrix is an arrangement of data, A Determinant is a single value \n",
        "\n",
        "#To calculate the determinant of a matrix, \n",
        "#first and foremost, obviously, the matrix needs to be a square matrix.\n",
        "#this is the function we are going to use in order to find the determinant:\n",
        "a = np.identity(3)\n",
        "b = np.linalg.det(a)\n",
        "print(b)\n",
        "\n",
        "#since the determinant of an identity matrix is always 1, we have verified the working of this function."
      ]
    },
    {
      "cell_type": "markdown",
      "id": "d10b2806",
      "metadata": {
        "id": "d10b2806"
      },
      "source": [
        "##### 3.6 Trigonomety"
      ]
    },
    {
      "cell_type": "code",
      "execution_count": 45,
      "id": "506f8cee",
      "metadata": {
        "id": "506f8cee",
        "outputId": "98b3a7cd-f98f-4314-cf68-bd248c1bd867",
        "colab": {
          "base_uri": "https://localhost:8080/"
        }
      },
      "outputs": [
        {
          "output_type": "stream",
          "name": "stdout",
          "text": [
            "[1.5707963267948966, 0.5235987755982988]\n",
            "[1.  0.5]\n"
          ]
        }
      ],
      "source": [
        "a = ([np.pi/2,np.pi/6])\n",
        "print(a)\n",
        "\n",
        "c = np.sin(a)\n",
        "print(c)\n",
        "\n",
        "#So we learnt two things in this:\n",
        "#First, of course the fact that we can use trignonometric functions in this\n",
        "#Second, how to use pi from the numpy library"
      ]
    },
    {
      "cell_type": "markdown",
      "id": "b8d5fa6f",
      "metadata": {
        "id": "b8d5fa6f"
      },
      "source": [
        "#### 4. Statistics"
      ]
    },
    {
      "cell_type": "code",
      "execution_count": 46,
      "id": "0944c37b",
      "metadata": {
        "id": "0944c37b",
        "outputId": "e8165b30-7d7f-44c4-f8c8-4878b2c8a34e",
        "colab": {
          "base_uri": "https://localhost:8080/"
        }
      },
      "outputs": [
        {
          "output_type": "stream",
          "name": "stdout",
          "text": [
            "1\n",
            "9\n"
          ]
        }
      ],
      "source": [
        "#In statistics, considering the scope of our lecture, we'll look at two functions:\n",
        "#minimum and maximum\n",
        "\n",
        "a = ([1,2,3,4,5,6,7,8,9])\n",
        "#in the above array or a  matrix, it is easy to tell exactly which is the largest number in it\n",
        "#however, in practical scnarios, we'll be dealing with arrays that are even 100x100\n",
        "#regardless, we're going to find out which is the largest number among these\n",
        "min_a = np.min(a)\n",
        "print(min_a)\n",
        "#similarly for max\n",
        "max_a = np.max(a)\n",
        "print(max_a)"
      ]
    },
    {
      "cell_type": "markdown",
      "id": "3e15210a",
      "metadata": {
        "id": "3e15210a"
      },
      "source": [
        "## (VI) Matrix manipulation"
      ]
    },
    {
      "cell_type": "markdown",
      "id": "8271c741",
      "metadata": {
        "id": "8271c741"
      },
      "source": [
        "#### 1. Reshaping "
      ]
    },
    {
      "cell_type": "code",
      "execution_count": 47,
      "id": "9b255aa0",
      "metadata": {
        "id": "9b255aa0",
        "outputId": "0ead9c30-0ecd-4468-de95-5d4fee6e712b",
        "colab": {
          "base_uri": "https://localhost:8080/"
        }
      },
      "outputs": [
        {
          "output_type": "stream",
          "name": "stdout",
          "text": [
            "[[1]\n",
            " [2]\n",
            " [3]\n",
            " [4]\n",
            " [5]\n",
            " [6]\n",
            " [7]\n",
            " [8]]\n"
          ]
        }
      ],
      "source": [
        "a= np.array([[1,2,3,4],[5,6,7,8]])\n",
        "b= a.reshape((8,1)) #8rows and 1 column\n",
        "print(b)\n",
        "\n",
        "#From this, we come to know this function is goin to work as long as the total number of \n",
        "#elements in it remains the same.\n",
        "\n"
      ]
    },
    {
      "cell_type": "markdown",
      "id": "0994769e",
      "metadata": {
        "id": "0994769e"
      },
      "source": [
        "#### Exercise 6.1"
      ]
    },
    {
      "cell_type": "code",
      "execution_count": 48,
      "id": "1affd14e",
      "metadata": {
        "id": "1affd14e",
        "outputId": "998b04e3-f2d5-414f-b6cc-5015c979874e",
        "colab": {
          "base_uri": "https://localhost:8080/"
        }
      },
      "outputs": [
        {
          "output_type": "stream",
          "name": "stdout",
          "text": [
            "[[1 2]\n",
            " [3 4]\n",
            " [5 6]\n",
            " [7 8]]\n",
            "--------\n",
            "[[[1 2]\n",
            "  [3 4]]\n",
            "\n",
            " [[5 6]\n",
            "  [7 8]]]\n"
          ]
        }
      ],
      "source": [
        "#Modify array a such that it becomes a 4x2, 2x2x2 array\n",
        "c = a.reshape((4,2))\n",
        "d = a.reshape((2,2,2))\n",
        "print(c)\n",
        "print(\"--------\")\n",
        "print(d)"
      ]
    },
    {
      "cell_type": "markdown",
      "id": "622efbf3",
      "metadata": {
        "id": "622efbf3"
      },
      "source": [
        "#### 2. Stacking "
      ]
    },
    {
      "cell_type": "code",
      "execution_count": 49,
      "id": "7019e1f6",
      "metadata": {
        "id": "7019e1f6",
        "outputId": "bb2789fa-57f1-4a96-935e-860aec3a70bc",
        "colab": {
          "base_uri": "https://localhost:8080/"
        }
      },
      "outputs": [
        {
          "output_type": "execute_result",
          "data": {
            "text/plain": [
              "array([[ 10,  20,  30,  40,  50],\n",
              "       [ 60,  70,  80,  90, 100]])"
            ]
          },
          "metadata": {},
          "execution_count": 49
        }
      ],
      "source": [
        "#Horizontal Stacking:\n",
        "a = np.array([10,20,30,40,50])\n",
        "b = np.array([60,70,80,90,100])\n",
        "c = np.vstack([a,b]) #stack and vstack both will do\n",
        "c\n",
        "\n",
        "#you may even stack them multiple times, according to the sequence you put in those brackets"
      ]
    },
    {
      "cell_type": "code",
      "execution_count": 50,
      "id": "8eaa8158",
      "metadata": {
        "id": "8eaa8158",
        "outputId": "1afe721d-907e-4137-d682-997f851be832",
        "colab": {
          "base_uri": "https://localhost:8080/"
        }
      },
      "outputs": [
        {
          "output_type": "execute_result",
          "data": {
            "text/plain": [
              "array([[1, 2, 2, 2],\n",
              "       [3, 4, 2, 2]])"
            ]
          },
          "metadata": {},
          "execution_count": 50
        }
      ],
      "source": [
        "#Vertical Stacking:\n",
        "a = np.array([[1,2],[3,4]])\n",
        "b = np.full_like(a,2) #remember the full_like function from previous sections?\n",
        "c = np.hstack([a,b])\n",
        "c\n"
      ]
    },
    {
      "cell_type": "markdown",
      "id": "c79d657e",
      "metadata": {
        "id": "c79d657e"
      },
      "source": [
        "## (VII) Miscellaneous"
      ]
    },
    {
      "cell_type": "code",
      "execution_count": 51,
      "id": "d38f3eec",
      "metadata": {
        "id": "d38f3eec",
        "outputId": "fb5d1d7a-0c8c-4f17-b45f-5f13efe29d62",
        "colab": {
          "base_uri": "https://localhost:8080/"
        }
      },
      "outputs": [
        {
          "output_type": "stream",
          "name": "stdout",
          "text": [
            "[[ 1  2]\n",
            " [ 3 99]]\n",
            "[[ 1  2]\n",
            " [ 3 99]]\n"
          ]
        }
      ],
      "source": [
        "#careful while copying arrays\n",
        "#it works on pointers. \n",
        "#for example, you'd expect in this case that the changes made to b will not affect a \n",
        "a = np.array([[1,2],[3,4]])\n",
        "b = a\n",
        "a[1,1] = 99\n",
        "print(b)\n",
        "#However, they're actually both operating on the same array, beacuse a nad b are both \n",
        "#pointing to the same array.\n",
        "\n",
        "#To avoid this, use:\n",
        "c=a.copy()\n",
        "print(c)"
      ]
    },
    {
      "cell_type": "code",
      "source": [
        "cars = [\"Aston\", \"Audi\", \"McLaren \"]\n",
        "for i, x in enumerate(cars):\n",
        "    print(x)"
      ],
      "metadata": {
        "colab": {
          "base_uri": "https://localhost:8080/"
        },
        "id": "jQ3kLQbgRDBe",
        "outputId": "399097d1-364c-4692-f2dd-8c6faad729c2"
      },
      "id": "jQ3kLQbgRDBe",
      "execution_count": 52,
      "outputs": [
        {
          "output_type": "stream",
          "name": "stdout",
          "text": [
            "Aston\n",
            "Audi\n",
            "McLaren \n"
          ]
        }
      ]
    }
  ],
  "metadata": {
    "kernelspec": {
      "display_name": "Python 3",
      "language": "python",
      "name": "python3"
    },
    "language_info": {
      "codemirror_mode": {
        "name": "ipython",
        "version": 3
      },
      "file_extension": ".py",
      "mimetype": "text/x-python",
      "name": "python",
      "nbconvert_exporter": "python",
      "pygments_lexer": "ipython3",
      "version": "3.8.8"
    },
    "colab": {
      "provenance": [],
      "collapsed_sections": [
        "36d0621c"
      ],
      "include_colab_link": true
    }
  },
  "nbformat": 4,
  "nbformat_minor": 5
}